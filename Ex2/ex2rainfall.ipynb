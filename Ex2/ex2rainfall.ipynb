{
 "cells": [
  {
   "cell_type": "code",
   "execution_count": 3,
   "metadata": {},
   "outputs": [
    {
     "name": "stdout",
     "output_type": "stream",
     "text": [
      "Initial Dataset:\n",
      "    YEAR   JAN    FEB   MAR    APR    MAY    JUN    JUL\n",
      "0  1901  49.2   87.1  29.2    2.3  528.8  517.5  365.1\n",
      "1  1902   0.0  159.8  12.2    0.0  446.1  537.1  228.9\n",
      "2  1903  12.7  144.0   0.0    1.0  235.1  479.9  728.4\n",
      "3  1904   9.4   14.7   0.0  202.4  304.5  495.1  502.0\n",
      "\n",
      "Cleaned Dataset:\n",
      "    YEAR   JAN    FEB   MAR   APR    MAY    JUN    JUL\n",
      "0  1901  49.2   87.1  29.2  2.30  528.8  517.5  365.1\n",
      "1  1902   0.0  159.8  12.2  0.00  446.1  537.1  228.9\n",
      "2  1903  12.7  144.0   0.0  1.00  235.1  479.9  728.4\n",
      "3  1904   9.4   14.7   0.0  1.65  304.5  495.1  502.0\n"
     ]
    }
   ],
   "source": [
    "\n",
    "import pandas as pd \n",
    "\n",
    "df = pd.read_csv(\"rainfall.csv\")\n",
    "# Display the initial dataset\n",
    "print(\"Initial Dataset:\\n\", df)\n",
    "\n",
    "# Handle missing values (fill with the mean of the column as an example)\n",
    "df.fillna(df.mean(), inplace=True)\n",
    "\n",
    "# Detect and handle outliers\n",
    "# One common method is using the IQR (Interquartile Range) to identify outliers\n",
    "  \n",
    "def handle_outliers(column):\n",
    "    Q1 = column.quantile(0.25)\n",
    "    Q3 = column.quantile(0.75)\n",
    "    IQR = Q3 - Q1\n",
    "    lower_bound = Q1 - 1.5 * IQR\n",
    "    upper_bound = Q3 + 1.5 * IQR\n",
    "    # Replace outliers with median\n",
    "    median = column.median()\n",
    "    return column.apply(lambda x: median if x < lower_bound or x > upper_bound else x)\n",
    "\n",
    "for col in df.columns[2:]:\n",
    "    df[col] = handle_outliers(df[col])\n",
    "\n",
    "# Display the cleaned dataset\n",
    "print(\"\\nCleaned Dataset:\\n\", df) \n"
   ]
  },
  {
   "cell_type": "code",
   "execution_count": null,
   "metadata": {},
   "outputs": [],
   "source": []
  }
 ],
 "metadata": {
  "kernelspec": {
   "display_name": "Python 3",
   "language": "python",
   "name": "python3"
  },
  "language_info": {
   "codemirror_mode": {
    "name": "ipython",
    "version": 3
   },
   "file_extension": ".py",
   "mimetype": "text/x-python",
   "name": "python",
   "nbconvert_exporter": "python",
   "pygments_lexer": "ipython3",
   "version": "3.12.4"
  }
 },
 "nbformat": 4,
 "nbformat_minor": 2
}
