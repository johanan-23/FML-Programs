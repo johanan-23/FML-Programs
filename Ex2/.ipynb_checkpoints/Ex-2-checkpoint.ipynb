{
 "cells": [
  {
   "cell_type": "markdown",
   "id": "e4405549a363b599",
   "metadata": {},
   "source": [
    "Exercise - 2"
   ]
  },
  {
   "cell_type": "markdown",
   "id": "4b382a4de21be3a3",
   "metadata": {},
   "source": [
    "2A:\n",
    "Make a Pandas DataFrame with two-dimensional list"
   ]
  },
  {
   "cell_type": "code",
   "id": "cd0fefa46eb354ce",
   "metadata": {
    "ExecuteTime": {
     "end_time": "2024-08-15T16:42:47.204896Z",
     "start_time": "2024-08-15T16:42:47.199301Z"
    }
   },
   "source": [
    "import pandas as pd \n",
    "\n",
    "data = [\n",
    "    [1, 'Alice', 30],\n",
    "    [2, 'Bob', 25],\n",
    "    [3, 'Charlie', 35]\n",
    "]\n",
    "df = pd.DataFrame(data, columns=['ID', 'Name', 'Age'])\n",
    "\n",
    "print(df)"
   ],
   "outputs": [
    {
     "name": "stdout",
     "output_type": "stream",
     "text": [
      "   ID     Name  Age\n",
      "0   1    Alice   30\n",
      "1   2      Bob   25\n",
      "2   3  Charlie   35\n"
     ]
    }
   ],
   "execution_count": 242
  },
  {
   "cell_type": "markdown",
   "id": "903b1489ba3d9bcb",
   "metadata": {},
   "source": [
    "2B: \n",
    "Write a python code to get the output as shown below\n",
    "            0      1      2\n",
    "Category   Array  Stack  Queue\n",
    "Student_1     20     21     19\n",
    "Student_2     15     20     14\n"
   ]
  },
  {
   "cell_type": "code",
   "id": "26b2ada024a23e64",
   "metadata": {
    "ExecuteTime": {
     "end_time": "2024-08-15T16:42:47.468604Z",
     "start_time": "2024-08-15T16:42:47.462371Z"
    }
   },
   "source": [
    "import pandas as pd\n",
    "\n",
    "data = {\n",
    "    'Category': ['Array', 'Stack', 'Queue'],\n",
    "    'Student_1': [20, 21, 19],\n",
    "    'Student_2': [15, 20, 14]\n",
    "}\n",
    "df = pd.DataFrame(data)\n",
    "df.set_index('Category', inplace=True)\n",
    "df_transposed = df.transpose()\n",
    "\n",
    "print(df_transposed)"
   ],
   "outputs": [
    {
     "name": "stdout",
     "output_type": "stream",
     "text": [
      "Category   Array  Stack  Queue\n",
      "Student_1     20     21     19\n",
      "Student_2     15     20     14\n"
     ]
    }
   ],
   "execution_count": 243
  },
  {
   "cell_type": "code",
   "id": "211b454fd90a1580",
   "metadata": {
    "ExecuteTime": {
     "end_time": "2024-08-15T16:42:47.507054Z",
     "start_time": "2024-08-15T16:42:47.504505Z"
    }
   },
   "source": [],
   "outputs": [],
   "execution_count": 243
  },
  {
   "cell_type": "markdown",
   "id": "2385f1f25d4bfef1",
   "metadata": {},
   "source": [
    "2C: Create a CSV file for student mark statement with atleast 5 subjects and 10 rows of details Add total mark also"
   ]
  },
  {
   "cell_type": "code",
   "id": "e7a8f3fa1f1b3028",
   "metadata": {
    "ExecuteTime": {
     "end_time": "2024-08-15T16:42:47.587289Z",
     "start_time": "2024-08-15T16:42:47.578099Z"
    }
   },
   "source": [
    "import pandas as pd\n",
    "\n",
    "data = [\n",
    "    {\"Name\": \"Student 1\", \"Math\": 85, \"Physics\": 90, \"Chemistry\": 95, \"Biology\": 80, \"English\": 75},\n",
    "    {\"Name\": \"Student 2\", \"Math\": 78, \"Physics\": 82, \"Chemistry\": 88, \"Biology\": 90, \"English\": 85},\n",
    "    {\"Name\": \"Student 3\", \"Math\": 92, \"Physics\": 88, \"Chemistry\": 91, \"Biology\": 86, \"English\": 89},\n",
    "    {\"Name\": \"Student 4\", \"Math\": 75, \"Physics\": 80, \"Chemistry\": 79, \"Biology\": 92, \"English\": 88},\n",
    "    {\"Name\": \"Student 5\", \"Math\": 88, \"Physics\": 90, \"Chemistry\": 92, \"Biology\": 85, \"English\": 87},\n",
    "    {\"Name\": \"Student 6\", \"Math\": 82, \"Physics\": 84, \"Chemistry\": 86, \"Biology\": 88, \"English\": 90},\n",
    "    {\"Name\": \"Student 7\", \"Math\": 90, \"Physics\": 92, \"Chemistry\": 94, \"Biology\": 89, \"English\": 91},\n",
    "    {\"Name\": \"Student 8\", \"Math\": 85, \"Physics\": 87, \"Chemistry\": 85, \"Biology\": 80, \"English\": 82},\n",
    "    {\"Name\": \"Student 9\", \"Math\": 80, \"Physics\": 82, \"Chemistry\": 84, \"Biology\": 86, \"English\": 88},\n",
    "    {\"Name\": \"Student 10\", \"Math\": 92, \"Physics\": 94, \"Chemistry\": 96, \"Biology\": 98, \"English\": 90}\n",
    "]\n",
    "\n",
    "df = pd.DataFrame(data)\n",
    "df['Total'] = df[['Math', 'Physics', 'Chemistry', 'Biology', 'English']].sum(axis=1)\n",
    "df.to_csv('student_marks.csv', index=False)\n",
    "print(\"CSV file created successfully.\")"
   ],
   "outputs": [
    {
     "name": "stdout",
     "output_type": "stream",
     "text": [
      "CSV file created successfully.\n"
     ]
    }
   ],
   "execution_count": 244
  },
  {
   "cell_type": "markdown",
   "id": "b40c391438e93e79",
   "metadata": {},
   "source": [
    "2D: Using pandas read the CSV files and manipulate the followings:"
   ]
  },
  {
   "cell_type": "markdown",
   "id": "c037b1b9c3b104e2",
   "metadata": {},
   "source": [
    "a) Verify the file extension and read the file"
   ]
  },
  {
   "cell_type": "code",
   "id": "7aa1632675b9392c",
   "metadata": {
    "ExecuteTime": {
     "end_time": "2024-08-15T16:42:47.625164Z",
     "start_time": "2024-08-15T16:42:47.618967Z"
    }
   },
   "source": [
    "import pandas as pd\n",
    "\n",
    "file_path = 'student_marks.csv'\n",
    "if file_path.endswith('.csv'):\n",
    "    df = pd.read_csv(file_path)\n",
    "    print(\"File read successfully.\")\n",
    "else:\n",
    "    print(\"File is not a CSV.\")"
   ],
   "outputs": [
    {
     "name": "stdout",
     "output_type": "stream",
     "text": [
      "File read successfully.\n"
     ]
    }
   ],
   "execution_count": 245
  },
  {
   "cell_type": "markdown",
   "id": "868c12c1928254b7",
   "metadata": {},
   "source": [
    "b) Print top 4 header rows"
   ]
  },
  {
   "cell_type": "code",
   "id": "db965aef4cac49e9",
   "metadata": {
    "ExecuteTime": {
     "end_time": "2024-08-15T16:42:47.659716Z",
     "start_time": "2024-08-15T16:42:47.655171Z"
    }
   },
   "source": [
    "print(df.head(4))"
   ],
   "outputs": [
    {
     "name": "stdout",
     "output_type": "stream",
     "text": [
      "        Name  Math  Physics  Chemistry  Biology  English  Total\n",
      "0  Student 1    85       90         95       80       75    425\n",
      "1  Student 2    78       82         88       90       85    423\n",
      "2  Student 3    92       88         91       86       89    446\n",
      "3  Student 4    75       80         79       92       88    414\n"
     ]
    }
   ],
   "execution_count": 246
  },
  {
   "cell_type": "markdown",
   "id": "42f0df6876a9c2b3",
   "metadata": {},
   "source": [
    "c) Display the Student Names whose Total Mark is >= 80"
   ]
  },
  {
   "cell_type": "code",
   "id": "a23391582a5793be",
   "metadata": {
    "ExecuteTime": {
     "end_time": "2024-08-15T16:42:47.690802Z",
     "start_time": "2024-08-15T16:42:47.686784Z"
    }
   },
   "source": [
    "students_above_80 = df[df['Total'] >= 80]['Name']\n",
    "print(students_above_80)"
   ],
   "outputs": [
    {
     "name": "stdout",
     "output_type": "stream",
     "text": [
      "0     Student 1\n",
      "1     Student 2\n",
      "2     Student 3\n",
      "3     Student 4\n",
      "4     Student 5\n",
      "5     Student 6\n",
      "6     Student 7\n",
      "7     Student 8\n",
      "8     Student 9\n",
      "9    Student 10\n",
      "Name: Name, dtype: object\n"
     ]
    }
   ],
   "execution_count": 247
  },
  {
   "cell_type": "markdown",
   "id": "c84afb170629ec95",
   "metadata": {},
   "source": [
    "d) Find average, median marks of each subject"
   ]
  },
  {
   "cell_type": "code",
   "id": "7f53c625a5ec5db6",
   "metadata": {
    "ExecuteTime": {
     "end_time": "2024-08-15T16:42:47.728953Z",
     "start_time": "2024-08-15T16:42:47.721994Z"
    }
   },
   "source": [
    "average_marks = df.loc[:, 'Math':'English'].mean()\n",
    "median_marks = df.loc[:, 'Math':'English'].median()\n",
    "print(\"Average Marks:\\n\", average_marks)\n",
    "print(\"Median Marks:\\n\", median_marks)"
   ],
   "outputs": [
    {
     "name": "stdout",
     "output_type": "stream",
     "text": [
      "Average Marks:\n",
      " Math         84.7\n",
      "Physics      86.9\n",
      "Chemistry    89.0\n",
      "Biology      87.4\n",
      "English      86.5\n",
      "dtype: float64\n",
      "Median Marks:\n",
      " Math         85.0\n",
      "Physics      87.5\n",
      "Chemistry    89.5\n",
      "Biology      87.0\n",
      "English      88.0\n",
      "dtype: float64\n"
     ]
    }
   ],
   "execution_count": 248
  },
  {
   "cell_type": "markdown",
   "id": "b4e033ff066d6f0d",
   "metadata": {},
   "source": [
    "e) Find the worst and best student"
   ]
  },
  {
   "cell_type": "code",
   "id": "2041d1547b9ad73c",
   "metadata": {
    "ExecuteTime": {
     "end_time": "2024-08-15T16:42:47.745983Z",
     "start_time": "2024-08-15T16:42:47.741959Z"
    }
   },
   "source": [
    "best_student = df.loc[df['Total'].idxmax(), 'Name']\n",
    "worst_student = df.loc[df['Total'].idxmin(), 'Name']\n",
    "print(f\"Best Student: {best_student}\")\n",
    "print(f\"Worst Student: {worst_student}\")"
   ],
   "outputs": [
    {
     "name": "stdout",
     "output_type": "stream",
     "text": [
      "Best Student: Student 10\n",
      "Worst Student: Student 4\n"
     ]
    }
   ],
   "execution_count": 249
  },
  {
   "cell_type": "markdown",
   "id": "470e56b3d7cfe4ce",
   "metadata": {},
   "source": [
    "2E: Duplicate the original CSV file by removing Odd rows into another CSV file."
   ]
  },
  {
   "cell_type": "code",
   "id": "35ce53984da6344e",
   "metadata": {
    "ExecuteTime": {
     "end_time": "2024-08-15T16:42:47.769734Z",
     "start_time": "2024-08-15T16:42:47.763990Z"
    }
   },
   "source": [
    "import pandas as pd\n",
    "\n",
    "df = pd.read_csv('student_marks.csv')\n",
    "filtered_df = df.iloc[::2]\n",
    "\n",
    "filtered_df.to_csv('filtered_student_marks.csv', index=False)"
   ],
   "outputs": [],
   "execution_count": 250
  },
  {
   "cell_type": "markdown",
   "id": "597876383a19fd06",
   "metadata": {},
   "source": [
    "Task-6: Plot the marks using matplotlib"
   ]
  },
  {
   "cell_type": "code",
   "id": "e5db7642595bf3f5",
   "metadata": {
    "ExecuteTime": {
     "end_time": "2024-08-15T16:42:47.991462Z",
     "start_time": "2024-08-15T16:42:47.824738Z"
    }
   },
   "source": [
    "import pandas as pd\n",
    "import matplotlib.pyplot as plt\n",
    "\n",
    "df = pd.read_csv('student_marks_with_average.csv')\n",
    "subjects = ['Math', 'Physics', 'Chemistry', 'Biology', 'English']\n",
    "subject_averages = df[subjects].mean()\n",
    "names = df['Name']\n",
    "person_averages = df['Average']\n",
    "\n",
    "plt.figure(figsize=(14, 6))\n",
    "\n",
    "plt.subplot(1, 2, 1)\n",
    "plt.bar(subjects, subject_averages, color='skyblue')\n",
    "plt.title('Average Marks in Each Subject')\n",
    "plt.xlabel('Subjects')\n",
    "plt.ylabel('Average Marks')\n",
    "plt.ylim(0, 100)\n",
    "\n",
    "plt.subplot(1, 2, 2)\n",
    "plt.bar(names, person_averages, color='lightgreen')\n",
    "plt.title('Average Marks per Student')\n",
    "plt.xlabel('Student')\n",
    "plt.ylabel('Average Marks')\n",
    "plt.xticks(rotation=45)\n",
    "plt.ylim(0, 100)\n",
    "\n",
    "plt.tight_layout()\n",
    "plt.show()"
   ],
   "outputs": [
    {
     "data": {
      "text/plain": [
       "<Figure size 1400x600 with 2 Axes>"
      ],
      "image/png": "[encoded data removed]"
     },
     "metadata": {},
     "output_type": "display_data"
    }
   ],
   "execution_count": 251
  },
  {
   "cell_type": "markdown",
   "id": "6561e29aed5e0e4d",
   "metadata": {},
   "source": [
    "2E: Reading the CSV file!"
   ]
  },
  {
   "cell_type": "code",
   "id": "d1913c201d697a84",
   "metadata": {
    "ExecuteTime": {
     "end_time": "2024-08-15T16:42:48.004599Z",
     "start_time": "2024-08-15T16:42:47.992466Z"
    }
   },
   "source": [
    "import pandas as pd\n",
    "df = pd.read_csv('heights.csv')\n",
    "print(df.head())\n",
    "df.height.describe()"
   ],
   "outputs": [
    {
     "name": "stdout",
     "output_type": "stream",
     "text": [
      "  gender     height\n",
      "0   Male  73.847017\n",
      "1   Male  68.781904\n",
      "2   Male  74.110105\n",
      "3   Male  71.730978\n",
      "4   Male  69.881796\n"
     ]
    },
    {
     "data": {
      "text/plain": [
       "count    10000.000000\n",
       "mean        66.367560\n",
       "std          3.847528\n",
       "min         54.263133\n",
       "25%         63.505620\n",
       "50%         66.318070\n",
       "75%         69.174262\n",
       "max         78.998742\n",
       "Name: height, dtype: float64"
      ]
     },
     "execution_count": 252,
     "metadata": {},
     "output_type": "execute_result"
    }
   ],
   "execution_count": 252
  },
  {
   "metadata": {},
   "cell_type": "markdown",
   "source": "3A. Read a CSV file containing height data, handle missing values, detect and handle outliers, and display the cleaned dataset using Python.",
   "id": "2b0452c539fac803"
  },
  {
   "metadata": {
    "ExecuteTime": {
     "end_time": "2024-08-15T16:42:48.013044Z",
     "start_time": "2024-08-15T16:42:48.004599Z"
    }
   },
   "cell_type": "code",
   "source": [
    "import pandas as pd\n",
    "df = pd.read_csv('height.csv')\n",
    "print(df.head())"
   ],
   "id": "bbfe8510dd76d1c4",
   "outputs": [
    {
     "name": "stdout",
     "output_type": "stream",
     "text": [
      "  Gender     Height\n",
      "0   Male  73.847017\n",
      "1   Male  68.781904\n",
      "2   Male  74.110105\n",
      "3   Male  71.730978\n",
      "4   Male  69.881796\n"
     ]
    }
   ],
   "execution_count": 253
  },
  {
   "metadata": {
    "ExecuteTime": {
     "end_time": "2024-08-15T16:42:48.021429Z",
     "start_time": "2024-08-15T16:42:48.015050Z"
    }
   },
   "cell_type": "code",
   "source": "df.Height.describe()",
   "id": "26c1076690d5fcb7",
   "outputs": [
    {
     "data": {
      "text/plain": [
       "count    10000.000000\n",
       "mean        66.367560\n",
       "std          3.847528\n",
       "min         54.263133\n",
       "25%         63.505620\n",
       "50%         66.318070\n",
       "75%         69.174262\n",
       "max         78.998742\n",
       "Name: Height, dtype: float64"
      ]
     },
     "execution_count": 254,
     "metadata": {},
     "output_type": "execute_result"
    }
   ],
   "execution_count": 254
  },
  {
   "metadata": {
    "ExecuteTime": {
     "end_time": "2024-08-15T16:42:48.236550Z",
     "start_time": "2024-08-15T16:42:48.021429Z"
    }
   },
   "cell_type": "code",
   "source": [
    "import seaborn as sn\n",
    "sn.histplot(df.Height,kde=True)"
   ],
   "id": "58db5a34e291e010",
   "outputs": [
    {
     "data": {
      "text/plain": [
       "<Axes: xlabel='Height', ylabel='Count'>"
      ]
     },
     "execution_count": 255,
     "metadata": {},
     "output_type": "execute_result"
    },
    {
     "data": {
      "text/plain": [
       "<Figure size 640x480 with 1 Axes>"
      ],
      "image/png": "[encoded data removed]"
     },
     "metadata": {},
     "output_type": "display_data"
    }
   ],
   "execution_count": 255
  },
  {
   "metadata": {
    "ExecuteTime": {
     "end_time": "2024-08-15T16:42:48.344254Z",
     "start_time": "2024-08-15T16:42:48.237555Z"
    }
   },
   "cell_type": "code",
   "source": [
    "import seaborn as sn\n",
    "sn.histplot(df.Height,kde=False)"
   ],
   "id": "6a8d85e335c17bd7",
   "outputs": [
    {
     "data": {
      "text/plain": [
       "<Axes: xlabel='Height', ylabel='Count'>"
      ]
     },
     "execution_count": 256,
     "metadata": {},
     "output_type": "execute_result"
    },
    {
     "data": {
      "text/plain": [
       "<Figure size 640x480 with 1 Axes>"
      ],
      "image/png": "[encoded data removed]"
     },
     "metadata": {},
     "output_type": "display_data"
    }
   ],
   "execution_count": 256
  },
  {
   "metadata": {
    "ExecuteTime": {
     "end_time": "2024-08-15T16:42:48.349465Z",
     "start_time": "2024-08-15T16:42:48.345267Z"
    }
   },
   "cell_type": "code",
   "source": [
    "mean= df.Height.mean()\n",
    "mean"
   ],
   "id": "e73c9143e14820f6",
   "outputs": [
    {
     "data": {
      "text/plain": [
       "66.367559754866"
      ]
     },
     "execution_count": 257,
     "metadata": {},
     "output_type": "execute_result"
    }
   ],
   "execution_count": 257
  },
  {
   "metadata": {
    "ExecuteTime": {
     "end_time": "2024-08-15T16:42:48.356804Z",
     "start_time": "2024-08-15T16:42:48.350471Z"
    }
   },
   "cell_type": "code",
   "source": [
    "std_deviation=df.Height.std()\n",
    "std_deviation"
   ],
   "id": "c1225329bfc126c3",
   "outputs": [
    {
     "data": {
      "text/plain": [
       "3.847528120795573"
      ]
     },
     "execution_count": 258,
     "metadata": {},
     "output_type": "execute_result"
    }
   ],
   "execution_count": 258
  },
  {
   "metadata": {
    "ExecuteTime": {
     "end_time": "2024-08-15T16:42:48.362620Z",
     "start_time": "2024-08-15T16:42:48.357809Z"
    }
   },
   "cell_type": "code",
   "source": "mean - (3 * std_deviation)",
   "id": "1bc94626717209f1",
   "outputs": [
    {
     "data": {
      "text/plain": [
       "54.824975392479274"
      ]
     },
     "execution_count": 259,
     "metadata": {},
     "output_type": "execute_result"
    }
   ],
   "execution_count": 259
  },
  {
   "metadata": {
    "ExecuteTime": {
     "end_time": "2024-08-15T16:42:48.369603Z",
     "start_time": "2024-08-15T16:42:48.363625Z"
    }
   },
   "cell_type": "code",
   "source": "mean + (3 * std_deviation)",
   "id": "a0ffaee3311609ab",
   "outputs": [
    {
     "data": {
      "text/plain": [
       "77.91014411725271"
      ]
     },
     "execution_count": 260,
     "metadata": {},
     "output_type": "execute_result"
    }
   ],
   "execution_count": 260
  },
  {
   "metadata": {
    "ExecuteTime": {
     "end_time": "2024-08-15T16:42:48.380391Z",
     "start_time": "2024-08-15T16:42:48.372611Z"
    }
   },
   "cell_type": "code",
   "source": "df[df.Height < 54.82]",
   "id": "a05c4ce3eb95dacb",
   "outputs": [
    {
     "data": {
      "text/plain": [
       "      Gender     Height\n",
       "6624  Female  54.616858\n",
       "9285  Female  54.263133"
      ],
      "text/html": [
       "<div>\n",
       "<style scoped>\n",
       "    .dataframe tbody tr th:only-of-type {\n",
       "        vertical-align: middle;\n",
       "    }\n",
       "\n",
       "    .dataframe tbody tr th {\n",
       "        vertical-align: top;\n",
       "    }\n",
       "\n",
       "    .dataframe thead th {\n",
       "        text-align: right;\n",
       "    }\n",
       "</style>\n",
       "<table border=\"1\" class=\"dataframe\">\n",
       "  <thead>\n",
       "    <tr style=\"text-align: right;\">\n",
       "      <th></th>\n",
       "      <th>Gender</th>\n",
       "      <th>Height</th>\n",
       "    </tr>\n",
       "  </thead>\n",
       "  <tbody>\n",
       "    <tr>\n",
       "      <th>6624</th>\n",
       "      <td>Female</td>\n",
       "      <td>54.616858</td>\n",
       "    </tr>\n",
       "    <tr>\n",
       "      <th>9285</th>\n",
       "      <td>Female</td>\n",
       "      <td>54.263133</td>\n",
       "    </tr>\n",
       "  </tbody>\n",
       "</table>\n",
       "</div>"
      ]
     },
     "execution_count": 261,
     "metadata": {},
     "output_type": "execute_result"
    }
   ],
   "execution_count": 261
  },
  {
   "metadata": {
    "ExecuteTime": {
     "end_time": "2024-08-15T16:42:48.388496Z",
     "start_time": "2024-08-15T16:42:48.381396Z"
    }
   },
   "cell_type": "code",
   "source": "df[df.Height > 77.91]",
   "id": "c84547b2a333da3d",
   "outputs": [
    {
     "data": {
      "text/plain": [
       "     Gender     Height\n",
       "994    Male  78.095867\n",
       "1317   Male  78.462053\n",
       "2014   Male  78.998742\n",
       "3285   Male  78.528210\n",
       "3757   Male  78.621374"
      ],
      "text/html": [
       "<div>\n",
       "<style scoped>\n",
       "    .dataframe tbody tr th:only-of-type {\n",
       "        vertical-align: middle;\n",
       "    }\n",
       "\n",
       "    .dataframe tbody tr th {\n",
       "        vertical-align: top;\n",
       "    }\n",
       "\n",
       "    .dataframe thead th {\n",
       "        text-align: right;\n",
       "    }\n",
       "</style>\n",
       "<table border=\"1\" class=\"dataframe\">\n",
       "  <thead>\n",
       "    <tr style=\"text-align: right;\">\n",
       "      <th></th>\n",
       "      <th>Gender</th>\n",
       "      <th>Height</th>\n",
       "    </tr>\n",
       "  </thead>\n",
       "  <tbody>\n",
       "    <tr>\n",
       "      <th>994</th>\n",
       "      <td>Male</td>\n",
       "      <td>78.095867</td>\n",
       "    </tr>\n",
       "    <tr>\n",
       "      <th>1317</th>\n",
       "      <td>Male</td>\n",
       "      <td>78.462053</td>\n",
       "    </tr>\n",
       "    <tr>\n",
       "      <th>2014</th>\n",
       "      <td>Male</td>\n",
       "      <td>78.998742</td>\n",
       "    </tr>\n",
       "    <tr>\n",
       "      <th>3285</th>\n",
       "      <td>Male</td>\n",
       "      <td>78.528210</td>\n",
       "    </tr>\n",
       "    <tr>\n",
       "      <th>3757</th>\n",
       "      <td>Male</td>\n",
       "      <td>78.621374</td>\n",
       "    </tr>\n",
       "  </tbody>\n",
       "</table>\n",
       "</div>"
      ]
     },
     "execution_count": 262,
     "metadata": {},
     "output_type": "execute_result"
    }
   ],
   "execution_count": 262
  },
  {
   "metadata": {
    "ExecuteTime": {
     "end_time": "2024-08-15T16:42:48.398312Z",
     "start_time": "2024-08-15T16:42:48.389501Z"
    }
   },
   "cell_type": "code",
   "source": "df[(df.Height > 77.91) | (df.Height < 54.82) ]",
   "id": "114d4a14e682ce1e",
   "outputs": [
    {
     "data": {
      "text/plain": [
       "      Gender     Height\n",
       "994     Male  78.095867\n",
       "1317    Male  78.462053\n",
       "2014    Male  78.998742\n",
       "3285    Male  78.528210\n",
       "3757    Male  78.621374\n",
       "6624  Female  54.616858\n",
       "9285  Female  54.263133"
      ],
      "text/html": [
       "<div>\n",
       "<style scoped>\n",
       "    .dataframe tbody tr th:only-of-type {\n",
       "        vertical-align: middle;\n",
       "    }\n",
       "\n",
       "    .dataframe tbody tr th {\n",
       "        vertical-align: top;\n",
       "    }\n",
       "\n",
       "    .dataframe thead th {\n",
       "        text-align: right;\n",
       "    }\n",
       "</style>\n",
       "<table border=\"1\" class=\"dataframe\">\n",
       "  <thead>\n",
       "    <tr style=\"text-align: right;\">\n",
       "      <th></th>\n",
       "      <th>Gender</th>\n",
       "      <th>Height</th>\n",
       "    </tr>\n",
       "  </thead>\n",
       "  <tbody>\n",
       "    <tr>\n",
       "      <th>994</th>\n",
       "      <td>Male</td>\n",
       "      <td>78.095867</td>\n",
       "    </tr>\n",
       "    <tr>\n",
       "      <th>1317</th>\n",
       "      <td>Male</td>\n",
       "      <td>78.462053</td>\n",
       "    </tr>\n",
       "    <tr>\n",
       "      <th>2014</th>\n",
       "      <td>Male</td>\n",
       "      <td>78.998742</td>\n",
       "    </tr>\n",
       "    <tr>\n",
       "      <th>3285</th>\n",
       "      <td>Male</td>\n",
       "      <td>78.528210</td>\n",
       "    </tr>\n",
       "    <tr>\n",
       "      <th>3757</th>\n",
       "      <td>Male</td>\n",
       "      <td>78.621374</td>\n",
       "    </tr>\n",
       "    <tr>\n",
       "      <th>6624</th>\n",
       "      <td>Female</td>\n",
       "      <td>54.616858</td>\n",
       "    </tr>\n",
       "    <tr>\n",
       "      <th>9285</th>\n",
       "      <td>Female</td>\n",
       "      <td>54.263133</td>\n",
       "    </tr>\n",
       "  </tbody>\n",
       "</table>\n",
       "</div>"
      ]
     },
     "execution_count": 263,
     "metadata": {},
     "output_type": "execute_result"
    }
   ],
   "execution_count": 263
  },
  {
   "metadata": {
    "ExecuteTime": {
     "end_time": "2024-08-15T16:42:48.407547Z",
     "start_time": "2024-08-15T16:42:48.399320Z"
    }
   },
   "cell_type": "code",
   "source": [
    "df_no_outlier= df[(df.Height < 77.91) & (df.Height > 54.82) ]\n",
    "df_no_outlier"
   ],
   "id": "4324a616a8125d56",
   "outputs": [
    {
     "data": {
      "text/plain": [
       "      Gender     Height\n",
       "0       Male  73.847017\n",
       "1       Male  68.781904\n",
       "2       Male  74.110105\n",
       "3       Male  71.730978\n",
       "4       Male  69.881796\n",
       "...      ...        ...\n",
       "9995  Female  66.172652\n",
       "9996  Female  67.067155\n",
       "9997  Female  63.867992\n",
       "9998  Female  69.034243\n",
       "9999  Female  61.944246\n",
       "\n",
       "[9993 rows x 2 columns]"
      ],
      "text/html": [
       "<div>\n",
       "<style scoped>\n",
       "    .dataframe tbody tr th:only-of-type {\n",
       "        vertical-align: middle;\n",
       "    }\n",
       "\n",
       "    .dataframe tbody tr th {\n",
       "        vertical-align: top;\n",
       "    }\n",
       "\n",
       "    .dataframe thead th {\n",
       "        text-align: right;\n",
       "    }\n",
       "</style>\n",
       "<table border=\"1\" class=\"dataframe\">\n",
       "  <thead>\n",
       "    <tr style=\"text-align: right;\">\n",
       "      <th></th>\n",
       "      <th>Gender</th>\n",
       "      <th>Height</th>\n",
       "    </tr>\n",
       "  </thead>\n",
       "  <tbody>\n",
       "    <tr>\n",
       "      <th>0</th>\n",
       "      <td>Male</td>\n",
       "      <td>73.847017</td>\n",
       "    </tr>\n",
       "    <tr>\n",
       "      <th>1</th>\n",
       "      <td>Male</td>\n",
       "      <td>68.781904</td>\n",
       "    </tr>\n",
       "    <tr>\n",
       "      <th>2</th>\n",
       "      <td>Male</td>\n",
       "      <td>74.110105</td>\n",
       "    </tr>\n",
       "    <tr>\n",
       "      <th>3</th>\n",
       "      <td>Male</td>\n",
       "      <td>71.730978</td>\n",
       "    </tr>\n",
       "    <tr>\n",
       "      <th>4</th>\n",
       "      <td>Male</td>\n",
       "      <td>69.881796</td>\n",
       "    </tr>\n",
       "    <tr>\n",
       "      <th>...</th>\n",
       "      <td>...</td>\n",
       "      <td>...</td>\n",
       "    </tr>\n",
       "    <tr>\n",
       "      <th>9995</th>\n",
       "      <td>Female</td>\n",
       "      <td>66.172652</td>\n",
       "    </tr>\n",
       "    <tr>\n",
       "      <th>9996</th>\n",
       "      <td>Female</td>\n",
       "      <td>67.067155</td>\n",
       "    </tr>\n",
       "    <tr>\n",
       "      <th>9997</th>\n",
       "      <td>Female</td>\n",
       "      <td>63.867992</td>\n",
       "    </tr>\n",
       "    <tr>\n",
       "      <th>9998</th>\n",
       "      <td>Female</td>\n",
       "      <td>69.034243</td>\n",
       "    </tr>\n",
       "    <tr>\n",
       "      <th>9999</th>\n",
       "      <td>Female</td>\n",
       "      <td>61.944246</td>\n",
       "    </tr>\n",
       "  </tbody>\n",
       "</table>\n",
       "<p>9993 rows × 2 columns</p>\n",
       "</div>"
      ]
     },
     "execution_count": 264,
     "metadata": {},
     "output_type": "execute_result"
    }
   ],
   "execution_count": 264
  },
  {
   "metadata": {
    "ExecuteTime": {
     "end_time": "2024-08-15T16:42:48.413546Z",
     "start_time": "2024-08-15T16:42:48.408553Z"
    }
   },
   "cell_type": "code",
   "source": [
    "df_no_outlier= df[(df.Height < 77.91) & (df.Height > 54.82) ]\n",
    "df_no_outlier.shape"
   ],
   "id": "f973222a13b52d82",
   "outputs": [
    {
     "data": {
      "text/plain": [
       "(9993, 2)"
      ]
     },
     "execution_count": 265,
     "metadata": {},
     "output_type": "execute_result"
    }
   ],
   "execution_count": 265
  },
  {
   "metadata": {
    "ExecuteTime": {
     "end_time": "2024-08-15T16:42:48.422539Z",
     "start_time": "2024-08-15T16:42:48.414552Z"
    }
   },
   "cell_type": "code",
   "source": [
    "df['zscore']= ((df.Height- df.Height.mean())/df.Height.std())\n",
    "df.head()"
   ],
   "id": "59b622e0398ad3a0",
   "outputs": [
    {
     "data": {
      "text/plain": [
       "  Gender     Height    zscore\n",
       "0   Male  73.847017  1.943964\n",
       "1   Male  68.781904  0.627505\n",
       "2   Male  74.110105  2.012343\n",
       "3   Male  71.730978  1.393991\n",
       "4   Male  69.881796  0.913375"
      ],
      "text/html": [
       "<div>\n",
       "<style scoped>\n",
       "    .dataframe tbody tr th:only-of-type {\n",
       "        vertical-align: middle;\n",
       "    }\n",
       "\n",
       "    .dataframe tbody tr th {\n",
       "        vertical-align: top;\n",
       "    }\n",
       "\n",
       "    .dataframe thead th {\n",
       "        text-align: right;\n",
       "    }\n",
       "</style>\n",
       "<table border=\"1\" class=\"dataframe\">\n",
       "  <thead>\n",
       "    <tr style=\"text-align: right;\">\n",
       "      <th></th>\n",
       "      <th>Gender</th>\n",
       "      <th>Height</th>\n",
       "      <th>zscore</th>\n",
       "    </tr>\n",
       "  </thead>\n",
       "  <tbody>\n",
       "    <tr>\n",
       "      <th>0</th>\n",
       "      <td>Male</td>\n",
       "      <td>73.847017</td>\n",
       "      <td>1.943964</td>\n",
       "    </tr>\n",
       "    <tr>\n",
       "      <th>1</th>\n",
       "      <td>Male</td>\n",
       "      <td>68.781904</td>\n",
       "      <td>0.627505</td>\n",
       "    </tr>\n",
       "    <tr>\n",
       "      <th>2</th>\n",
       "      <td>Male</td>\n",
       "      <td>74.110105</td>\n",
       "      <td>2.012343</td>\n",
       "    </tr>\n",
       "    <tr>\n",
       "      <th>3</th>\n",
       "      <td>Male</td>\n",
       "      <td>71.730978</td>\n",
       "      <td>1.393991</td>\n",
       "    </tr>\n",
       "    <tr>\n",
       "      <th>4</th>\n",
       "      <td>Male</td>\n",
       "      <td>69.881796</td>\n",
       "      <td>0.913375</td>\n",
       "    </tr>\n",
       "  </tbody>\n",
       "</table>\n",
       "</div>"
      ]
     },
     "execution_count": 266,
     "metadata": {},
     "output_type": "execute_result"
    }
   ],
   "execution_count": 266
  },
  {
   "metadata": {
    "ExecuteTime": {
     "end_time": "2024-08-15T16:42:48.474908Z",
     "start_time": "2024-08-15T16:42:48.470545Z"
    }
   },
   "cell_type": "code",
   "source": "df.Height.mean()",
   "id": "8a55418412509036",
   "outputs": [
    {
     "data": {
      "text/plain": [
       "66.367559754866"
      ]
     },
     "execution_count": 267,
     "metadata": {},
     "output_type": "execute_result"
    }
   ],
   "execution_count": 267
  },
  {
   "metadata": {
    "ExecuteTime": {
     "end_time": "2024-08-15T16:42:48.523195Z",
     "start_time": "2024-08-15T16:42:48.517916Z"
    }
   },
   "cell_type": "code",
   "source": "df.Height.std()",
   "id": "6549125fcd8f244b",
   "outputs": [
    {
     "data": {
      "text/plain": [
       "3.847528120795573"
      ]
     },
     "execution_count": 268,
     "metadata": {},
     "output_type": "execute_result"
    }
   ],
   "execution_count": 268
  },
  {
   "metadata": {
    "ExecuteTime": {
     "end_time": "2024-08-15T16:42:48.714206Z",
     "start_time": "2024-08-15T16:42:48.706431Z"
    }
   },
   "cell_type": "code",
   "source": "df[df.zscore >3]",
   "id": "4064464e6638f682",
   "outputs": [
    {
     "data": {
      "text/plain": [
       "     Gender     Height    zscore\n",
       "994    Male  78.095867  3.048271\n",
       "1317   Male  78.462053  3.143445\n",
       "2014   Male  78.998742  3.282934\n",
       "3285   Male  78.528210  3.160640\n",
       "3757   Male  78.621374  3.184854"
      ],
      "text/html": [
       "<div>\n",
       "<style scoped>\n",
       "    .dataframe tbody tr th:only-of-type {\n",
       "        vertical-align: middle;\n",
       "    }\n",
       "\n",
       "    .dataframe tbody tr th {\n",
       "        vertical-align: top;\n",
       "    }\n",
       "\n",
       "    .dataframe thead th {\n",
       "        text-align: right;\n",
       "    }\n",
       "</style>\n",
       "<table border=\"1\" class=\"dataframe\">\n",
       "  <thead>\n",
       "    <tr style=\"text-align: right;\">\n",
       "      <th></th>\n",
       "      <th>Gender</th>\n",
       "      <th>Height</th>\n",
       "      <th>zscore</th>\n",
       "    </tr>\n",
       "  </thead>\n",
       "  <tbody>\n",
       "    <tr>\n",
       "      <th>994</th>\n",
       "      <td>Male</td>\n",
       "      <td>78.095867</td>\n",
       "      <td>3.048271</td>\n",
       "    </tr>\n",
       "    <tr>\n",
       "      <th>1317</th>\n",
       "      <td>Male</td>\n",
       "      <td>78.462053</td>\n",
       "      <td>3.143445</td>\n",
       "    </tr>\n",
       "    <tr>\n",
       "      <th>2014</th>\n",
       "      <td>Male</td>\n",
       "      <td>78.998742</td>\n",
       "      <td>3.282934</td>\n",
       "    </tr>\n",
       "    <tr>\n",
       "      <th>3285</th>\n",
       "      <td>Male</td>\n",
       "      <td>78.528210</td>\n",
       "      <td>3.160640</td>\n",
       "    </tr>\n",
       "    <tr>\n",
       "      <th>3757</th>\n",
       "      <td>Male</td>\n",
       "      <td>78.621374</td>\n",
       "      <td>3.184854</td>\n",
       "    </tr>\n",
       "  </tbody>\n",
       "</table>\n",
       "</div>"
      ]
     },
     "execution_count": 269,
     "metadata": {},
     "output_type": "execute_result"
    }
   ],
   "execution_count": 269
  },
  {
   "metadata": {
    "ExecuteTime": {
     "end_time": "2024-08-15T16:42:48.854544Z",
     "start_time": "2024-08-15T16:42:48.846463Z"
    }
   },
   "cell_type": "code",
   "source": "df[df.zscore<-3]",
   "id": "aba063f831e4ae69",
   "outputs": [
    {
     "data": {
      "text/plain": [
       "      Gender     Height    zscore\n",
       "6624  Female  54.616858 -3.054091\n",
       "9285  Female  54.263133 -3.146027"
      ],
      "text/html": [
       "<div>\n",
       "<style scoped>\n",
       "    .dataframe tbody tr th:only-of-type {\n",
       "        vertical-align: middle;\n",
       "    }\n",
       "\n",
       "    .dataframe tbody tr th {\n",
       "        vertical-align: top;\n",
       "    }\n",
       "\n",
       "    .dataframe thead th {\n",
       "        text-align: right;\n",
       "    }\n",
       "</style>\n",
       "<table border=\"1\" class=\"dataframe\">\n",
       "  <thead>\n",
       "    <tr style=\"text-align: right;\">\n",
       "      <th></th>\n",
       "      <th>Gender</th>\n",
       "      <th>Height</th>\n",
       "      <th>zscore</th>\n",
       "    </tr>\n",
       "  </thead>\n",
       "  <tbody>\n",
       "    <tr>\n",
       "      <th>6624</th>\n",
       "      <td>Female</td>\n",
       "      <td>54.616858</td>\n",
       "      <td>-3.054091</td>\n",
       "    </tr>\n",
       "    <tr>\n",
       "      <th>9285</th>\n",
       "      <td>Female</td>\n",
       "      <td>54.263133</td>\n",
       "      <td>-3.146027</td>\n",
       "    </tr>\n",
       "  </tbody>\n",
       "</table>\n",
       "</div>"
      ]
     },
     "execution_count": 270,
     "metadata": {},
     "output_type": "execute_result"
    }
   ],
   "execution_count": 270
  },
  {
   "metadata": {
    "ExecuteTime": {
     "end_time": "2024-08-15T16:42:49.003799Z",
     "start_time": "2024-08-15T16:42:48.998296Z"
    }
   },
   "cell_type": "code",
   "source": "df[(df.zscore < -3)|(df.zscore > 3)]",
   "id": "d828e0ede0209013",
   "outputs": [
    {
     "data": {
      "text/plain": [
       "      Gender     Height    zscore\n",
       "994     Male  78.095867  3.048271\n",
       "1317    Male  78.462053  3.143445\n",
       "2014    Male  78.998742  3.282934\n",
       "3285    Male  78.528210  3.160640\n",
       "3757    Male  78.621374  3.184854\n",
       "6624  Female  54.616858 -3.054091\n",
       "9285  Female  54.263133 -3.146027"
      ],
      "text/html": [
       "<div>\n",
       "<style scoped>\n",
       "    .dataframe tbody tr th:only-of-type {\n",
       "        vertical-align: middle;\n",
       "    }\n",
       "\n",
       "    .dataframe tbody tr th {\n",
       "        vertical-align: top;\n",
       "    }\n",
       "\n",
       "    .dataframe thead th {\n",
       "        text-align: right;\n",
       "    }\n",
       "</style>\n",
       "<table border=\"1\" class=\"dataframe\">\n",
       "  <thead>\n",
       "    <tr style=\"text-align: right;\">\n",
       "      <th></th>\n",
       "      <th>Gender</th>\n",
       "      <th>Height</th>\n",
       "      <th>zscore</th>\n",
       "    </tr>\n",
       "  </thead>\n",
       "  <tbody>\n",
       "    <tr>\n",
       "      <th>994</th>\n",
       "      <td>Male</td>\n",
       "      <td>78.095867</td>\n",
       "      <td>3.048271</td>\n",
       "    </tr>\n",
       "    <tr>\n",
       "      <th>1317</th>\n",
       "      <td>Male</td>\n",
       "      <td>78.462053</td>\n",
       "      <td>3.143445</td>\n",
       "    </tr>\n",
       "    <tr>\n",
       "      <th>2014</th>\n",
       "      <td>Male</td>\n",
       "      <td>78.998742</td>\n",
       "      <td>3.282934</td>\n",
       "    </tr>\n",
       "    <tr>\n",
       "      <th>3285</th>\n",
       "      <td>Male</td>\n",
       "      <td>78.528210</td>\n",
       "      <td>3.160640</td>\n",
       "    </tr>\n",
       "    <tr>\n",
       "      <th>3757</th>\n",
       "      <td>Male</td>\n",
       "      <td>78.621374</td>\n",
       "      <td>3.184854</td>\n",
       "    </tr>\n",
       "    <tr>\n",
       "      <th>6624</th>\n",
       "      <td>Female</td>\n",
       "      <td>54.616858</td>\n",
       "      <td>-3.054091</td>\n",
       "    </tr>\n",
       "    <tr>\n",
       "      <th>9285</th>\n",
       "      <td>Female</td>\n",
       "      <td>54.263133</td>\n",
       "      <td>-3.146027</td>\n",
       "    </tr>\n",
       "  </tbody>\n",
       "</table>\n",
       "</div>"
      ]
     },
     "execution_count": 271,
     "metadata": {},
     "output_type": "execute_result"
    }
   ],
   "execution_count": 271
  },
  {
   "metadata": {
    "ExecuteTime": {
     "end_time": "2024-08-15T16:42:49.064302Z",
     "start_time": "2024-08-15T16:42:49.054921Z"
    }
   },
   "cell_type": "code",
   "source": [
    "df_outlier = df[(df.zscore > -3)&(df.zscore < 3)]\n",
    "df_outlier"
   ],
   "id": "626ec97891617aad",
   "outputs": [
    {
     "data": {
      "text/plain": [
       "      Gender     Height    zscore\n",
       "0       Male  73.847017  1.943964\n",
       "1       Male  68.781904  0.627505\n",
       "2       Male  74.110105  2.012343\n",
       "3       Male  71.730978  1.393991\n",
       "4       Male  69.881796  0.913375\n",
       "...      ...        ...       ...\n",
       "9995  Female  66.172652 -0.050658\n",
       "9996  Female  67.067155  0.181830\n",
       "9997  Female  63.867992 -0.649655\n",
       "9998  Female  69.034243  0.693090\n",
       "9999  Female  61.944246 -1.149651\n",
       "\n",
       "[9993 rows x 3 columns]"
      ],
      "text/html": [
       "<div>\n",
       "<style scoped>\n",
       "    .dataframe tbody tr th:only-of-type {\n",
       "        vertical-align: middle;\n",
       "    }\n",
       "\n",
       "    .dataframe tbody tr th {\n",
       "        vertical-align: top;\n",
       "    }\n",
       "\n",
       "    .dataframe thead th {\n",
       "        text-align: right;\n",
       "    }\n",
       "</style>\n",
       "<table border=\"1\" class=\"dataframe\">\n",
       "  <thead>\n",
       "    <tr style=\"text-align: right;\">\n",
       "      <th></th>\n",
       "      <th>Gender</th>\n",
       "      <th>Height</th>\n",
       "      <th>zscore</th>\n",
       "    </tr>\n",
       "  </thead>\n",
       "  <tbody>\n",
       "    <tr>\n",
       "      <th>0</th>\n",
       "      <td>Male</td>\n",
       "      <td>73.847017</td>\n",
       "      <td>1.943964</td>\n",
       "    </tr>\n",
       "    <tr>\n",
       "      <th>1</th>\n",
       "      <td>Male</td>\n",
       "      <td>68.781904</td>\n",
       "      <td>0.627505</td>\n",
       "    </tr>\n",
       "    <tr>\n",
       "      <th>2</th>\n",
       "      <td>Male</td>\n",
       "      <td>74.110105</td>\n",
       "      <td>2.012343</td>\n",
       "    </tr>\n",
       "    <tr>\n",
       "      <th>3</th>\n",
       "      <td>Male</td>\n",
       "      <td>71.730978</td>\n",
       "      <td>1.393991</td>\n",
       "    </tr>\n",
       "    <tr>\n",
       "      <th>4</th>\n",
       "      <td>Male</td>\n",
       "      <td>69.881796</td>\n",
       "      <td>0.913375</td>\n",
       "    </tr>\n",
       "    <tr>\n",
       "      <th>...</th>\n",
       "      <td>...</td>\n",
       "      <td>...</td>\n",
       "      <td>...</td>\n",
       "    </tr>\n",
       "    <tr>\n",
       "      <th>9995</th>\n",
       "      <td>Female</td>\n",
       "      <td>66.172652</td>\n",
       "      <td>-0.050658</td>\n",
       "    </tr>\n",
       "    <tr>\n",
       "      <th>9996</th>\n",
       "      <td>Female</td>\n",
       "      <td>67.067155</td>\n",
       "      <td>0.181830</td>\n",
       "    </tr>\n",
       "    <tr>\n",
       "      <th>9997</th>\n",
       "      <td>Female</td>\n",
       "      <td>63.867992</td>\n",
       "      <td>-0.649655</td>\n",
       "    </tr>\n",
       "    <tr>\n",
       "      <th>9998</th>\n",
       "      <td>Female</td>\n",
       "      <td>69.034243</td>\n",
       "      <td>0.693090</td>\n",
       "    </tr>\n",
       "    <tr>\n",
       "      <th>9999</th>\n",
       "      <td>Female</td>\n",
       "      <td>61.944246</td>\n",
       "      <td>-1.149651</td>\n",
       "    </tr>\n",
       "  </tbody>\n",
       "</table>\n",
       "<p>9993 rows × 3 columns</p>\n",
       "</div>"
      ]
     },
     "execution_count": 272,
     "metadata": {},
     "output_type": "execute_result"
    }
   ],
   "execution_count": 272
  },
  {
   "metadata": {},
   "cell_type": "markdown",
   "source": "4B. Read a CSV file containing Airbnb listing data, calculate descriptive statistics for the price column, identify and remove outliers based on percentile thresholds, and display a sample of the cleaned dataset using Python.",
   "id": "e6932d1a84986eac"
  },
  {
   "metadata": {
    "ExecuteTime": {
     "end_time": "2024-08-15T16:42:49.137702Z",
     "start_time": "2024-08-15T16:42:49.134231Z"
    }
   },
   "cell_type": "code",
   "source": "import pandas as pd",
   "id": "221198ba30566806",
   "outputs": [],
   "execution_count": 273
  },
  {
   "metadata": {
    "ExecuteTime": {
     "end_time": "2024-08-15T16:42:49.313770Z",
     "start_time": "2024-08-15T16:42:49.214032Z"
    }
   },
   "cell_type": "code",
   "source": [
    "df = pd.read_csv(\"AB_NYC_2019.csv\")\n",
    "df.head()"
   ],
   "id": "f9ac9dc56cf383a4",
   "outputs": [
    {
     "data": {
      "text/plain": [
       "     id                                              name  host_id  \\\n",
       "0  2539                Clean & quiet apt home by the park     2787   \n",
       "1  2595                             Skylit Midtown Castle     2845   \n",
       "2  3647               THE VILLAGE OF HARLEM....NEW YORK !     4632   \n",
       "3  3831                   Cozy Entire Floor of Brownstone     4869   \n",
       "4  5022  Entire Apt: Spacious Studio/Loft by central park     7192   \n",
       "\n",
       "     host_name neighbourhood_group neighbourhood  latitude  longitude  \\\n",
       "0         John            Brooklyn    Kensington  40.64749  -73.97237   \n",
       "1     Jennifer           Manhattan       Midtown  40.75362  -73.98377   \n",
       "2    Elisabeth           Manhattan        Harlem  40.80902  -73.94190   \n",
       "3  LisaRoxanne            Brooklyn  Clinton Hill  40.68514  -73.95976   \n",
       "4        Laura           Manhattan   East Harlem  40.79851  -73.94399   \n",
       "\n",
       "         room_type  price  minimum_nights  number_of_reviews last_review  \\\n",
       "0     Private room    149               1                  9  2018-10-19   \n",
       "1  Entire home/apt    225               1                 45  2019-05-21   \n",
       "2     Private room    150               3                  0         NaN   \n",
       "3  Entire home/apt     89               1                270  2019-07-05   \n",
       "4  Entire home/apt     80              10                  9  2018-11-19   \n",
       "\n",
       "   reviews_per_month  calculated_host_listings_count  availability_365  \n",
       "0               0.21                               6               365  \n",
       "1               0.38                               2               355  \n",
       "2                NaN                               1               365  \n",
       "3               4.64                               1               194  \n",
       "4               0.10                               1                 0  "
      ],
      "text/html": [
       "<div>\n",
       "<style scoped>\n",
       "    .dataframe tbody tr th:only-of-type {\n",
       "        vertical-align: middle;\n",
       "    }\n",
       "\n",
       "    .dataframe tbody tr th {\n",
       "        vertical-align: top;\n",
       "    }\n",
       "\n",
       "    .dataframe thead th {\n",
       "        text-align: right;\n",
       "    }\n",
       "</style>\n",
       "<table border=\"1\" class=\"dataframe\">\n",
       "  <thead>\n",
       "    <tr style=\"text-align: right;\">\n",
       "      <th></th>\n",
       "      <th>id</th>\n",
       "      <th>name</th>\n",
       "      <th>host_id</th>\n",
       "      <th>host_name</th>\n",
       "      <th>neighbourhood_group</th>\n",
       "      <th>neighbourhood</th>\n",
       "      <th>latitude</th>\n",
       "      <th>longitude</th>\n",
       "      <th>room_type</th>\n",
       "      <th>price</th>\n",
       "      <th>minimum_nights</th>\n",
       "      <th>number_of_reviews</th>\n",
       "      <th>last_review</th>\n",
       "      <th>reviews_per_month</th>\n",
       "      <th>calculated_host_listings_count</th>\n",
       "      <th>availability_365</th>\n",
       "    </tr>\n",
       "  </thead>\n",
       "  <tbody>\n",
       "    <tr>\n",
       "      <th>0</th>\n",
       "      <td>2539</td>\n",
       "      <td>Clean &amp; quiet apt home by the park</td>\n",
       "      <td>2787</td>\n",
       "      <td>John</td>\n",
       "      <td>Brooklyn</td>\n",
       "      <td>Kensington</td>\n",
       "      <td>40.64749</td>\n",
       "      <td>-73.97237</td>\n",
       "      <td>Private room</td>\n",
       "      <td>149</td>\n",
       "      <td>1</td>\n",
       "      <td>9</td>\n",
       "      <td>2018-10-19</td>\n",
       "      <td>0.21</td>\n",
       "      <td>6</td>\n",
       "      <td>365</td>\n",
       "    </tr>\n",
       "    <tr>\n",
       "      <th>1</th>\n",
       "      <td>2595</td>\n",
       "      <td>Skylit Midtown Castle</td>\n",
       "      <td>2845</td>\n",
       "      <td>Jennifer</td>\n",
       "      <td>Manhattan</td>\n",
       "      <td>Midtown</td>\n",
       "      <td>40.75362</td>\n",
       "      <td>-73.98377</td>\n",
       "      <td>Entire home/apt</td>\n",
       "      <td>225</td>\n",
       "      <td>1</td>\n",
       "      <td>45</td>\n",
       "      <td>2019-05-21</td>\n",
       "      <td>0.38</td>\n",
       "      <td>2</td>\n",
       "      <td>355</td>\n",
       "    </tr>\n",
       "    <tr>\n",
       "      <th>2</th>\n",
       "      <td>3647</td>\n",
       "      <td>THE VILLAGE OF HARLEM....NEW YORK !</td>\n",
       "      <td>4632</td>\n",
       "      <td>Elisabeth</td>\n",
       "      <td>Manhattan</td>\n",
       "      <td>Harlem</td>\n",
       "      <td>40.80902</td>\n",
       "      <td>-73.94190</td>\n",
       "      <td>Private room</td>\n",
       "      <td>150</td>\n",
       "      <td>3</td>\n",
       "      <td>0</td>\n",
       "      <td>NaN</td>\n",
       "      <td>NaN</td>\n",
       "      <td>1</td>\n",
       "      <td>365</td>\n",
       "    </tr>\n",
       "    <tr>\n",
       "      <th>3</th>\n",
       "      <td>3831</td>\n",
       "      <td>Cozy Entire Floor of Brownstone</td>\n",
       "      <td>4869</td>\n",
       "      <td>LisaRoxanne</td>\n",
       "      <td>Brooklyn</td>\n",
       "      <td>Clinton Hill</td>\n",
       "      <td>40.68514</td>\n",
       "      <td>-73.95976</td>\n",
       "      <td>Entire home/apt</td>\n",
       "      <td>89</td>\n",
       "      <td>1</td>\n",
       "      <td>270</td>\n",
       "      <td>2019-07-05</td>\n",
       "      <td>4.64</td>\n",
       "      <td>1</td>\n",
       "      <td>194</td>\n",
       "    </tr>\n",
       "    <tr>\n",
       "      <th>4</th>\n",
       "      <td>5022</td>\n",
       "      <td>Entire Apt: Spacious Studio/Loft by central park</td>\n",
       "      <td>7192</td>\n",
       "      <td>Laura</td>\n",
       "      <td>Manhattan</td>\n",
       "      <td>East Harlem</td>\n",
       "      <td>40.79851</td>\n",
       "      <td>-73.94399</td>\n",
       "      <td>Entire home/apt</td>\n",
       "      <td>80</td>\n",
       "      <td>10</td>\n",
       "      <td>9</td>\n",
       "      <td>2018-11-19</td>\n",
       "      <td>0.10</td>\n",
       "      <td>1</td>\n",
       "      <td>0</td>\n",
       "    </tr>\n",
       "  </tbody>\n",
       "</table>\n",
       "</div>"
      ]
     },
     "execution_count": 274,
     "metadata": {},
     "output_type": "execute_result"
    }
   ],
   "execution_count": 274
  },
  {
   "metadata": {
    "ExecuteTime": {
     "end_time": "2024-08-15T16:42:49.366203Z",
     "start_time": "2024-08-15T16:42:49.358181Z"
    }
   },
   "cell_type": "code",
   "source": "df.price.describe()",
   "id": "98938fea2cc51fde",
   "outputs": [
    {
     "data": {
      "text/plain": [
       "count    48895.000000\n",
       "mean       152.720687\n",
       "std        240.154170\n",
       "min          0.000000\n",
       "25%         69.000000\n",
       "50%        106.000000\n",
       "75%        175.000000\n",
       "max      10000.000000\n",
       "Name: price, dtype: float64"
      ]
     },
     "execution_count": 275,
     "metadata": {},
     "output_type": "execute_result"
    }
   ],
   "execution_count": 275
  },
  {
   "metadata": {
    "ExecuteTime": {
     "end_time": "2024-08-15T16:42:49.404246Z",
     "start_time": "2024-08-15T16:42:49.398209Z"
    }
   },
   "cell_type": "code",
   "source": [
    "min_threshold, max_threshold = df.price.quantile([0.01,0.999])\n",
    "min_threshold, max_threshold"
   ],
   "id": "e08d305b871508b",
   "outputs": [
    {
     "data": {
      "text/plain": [
       "(30.0, 3000.0)"
      ]
     },
     "execution_count": 276,
     "metadata": {},
     "output_type": "execute_result"
    }
   ],
   "execution_count": 276
  },
  {
   "metadata": {
    "ExecuteTime": {
     "end_time": "2024-08-15T16:42:49.491355Z",
     "start_time": "2024-08-15T16:42:49.477147Z"
    }
   },
   "cell_type": "code",
   "source": "df[df.price<min_threshold]",
   "id": "8efab71a16c6bd14",
   "outputs": [
    {
     "data": {
      "text/plain": [
       "             id                                             name    host_id  \\\n",
       "957      375249                  Enjoy Staten Island Hospitality    1887999   \n",
       "2675    1428154              Central, Peaceful Semi-Private Room    5912572   \n",
       "2860    1620248    Large furnished 2 bedrooms- - 30 days Minimum    2196224   \n",
       "3020    1767037               Small Cozy Room Wifi & AC near JFK    9284163   \n",
       "3918    2431607                    Bright, Airy Room Share for 2    4973668   \n",
       "...         ...                                              ...        ...   \n",
       "48486  36280646                     Cable and wfi, L/G included.  272872092   \n",
       "48647  36354776    Cozy bedroom in diverse neighborhood near JFK  273393150   \n",
       "48832  36450814                         FLATBUSH HANG OUT AND GO  267223765   \n",
       "48867  36473044  The place you were dreaming for.(only for guys)  261338177   \n",
       "48868  36473253                     Heaven for you(only for guy)  261338177   \n",
       "\n",
       "         host_name neighbourhood_group       neighbourhood  latitude  \\\n",
       "957    Rimma & Jim       Staten Island        Graniteville  40.62109   \n",
       "2675       Tangier            Brooklyn            Flatbush  40.63899   \n",
       "2860         Sally           Manhattan        East Village  40.73051   \n",
       "3020       Antonio              Queens           Woodhaven  40.68968   \n",
       "3918        Gloria            Brooklyn  Bedford-Stuyvesant  40.68642   \n",
       "...            ...                 ...                 ...       ...   \n",
       "48486        Chris              Queens        Forest Hills  40.73657   \n",
       "48647         Liza              Queens       Richmond Hill  40.68639   \n",
       "48832       Jarmel            Brooklyn            Flatbush  40.64922   \n",
       "48867        Diana            Brooklyn           Gravesend  40.59080   \n",
       "48868        Diana            Brooklyn           Gravesend  40.59118   \n",
       "\n",
       "       longitude        room_type  price  minimum_nights  number_of_reviews  \\\n",
       "957    -74.16534     Private room     20               3                 80   \n",
       "2675   -73.95177      Shared room     29               2                  5   \n",
       "2860   -73.98140  Entire home/apt     10              30                  0   \n",
       "3020   -73.85219     Private room     29               2                386   \n",
       "3918   -73.93440      Shared room     25               5                 76   \n",
       "...          ...              ...    ...             ...                ...   \n",
       "48486  -73.85088  Entire home/apt     16               9                  1   \n",
       "48647  -73.81847     Private room     28               2                  0   \n",
       "48832  -73.96078      Shared room     20               1                  0   \n",
       "48867  -73.97116      Shared room     25               1                  0   \n",
       "48868  -73.97119      Shared room     25               7                  0   \n",
       "\n",
       "      last_review  reviews_per_month  calculated_host_listings_count  \\\n",
       "957    2019-05-26               0.92                               1   \n",
       "2675   2014-10-20               0.07                               1   \n",
       "2860          NaN                NaN                               4   \n",
       "3020   2019-06-19               5.53                               3   \n",
       "3918   2019-06-06               1.22                               3   \n",
       "...           ...                ...                             ...   \n",
       "48486  2019-07-07               1.00                               1   \n",
       "48647         NaN                NaN                               1   \n",
       "48832         NaN                NaN                               3   \n",
       "48867         NaN                NaN                               6   \n",
       "48868         NaN                NaN                               6   \n",
       "\n",
       "       availability_365  \n",
       "957                 226  \n",
       "2675                321  \n",
       "2860                137  \n",
       "3020                 50  \n",
       "3918                258  \n",
       "...                 ...  \n",
       "48486               322  \n",
       "48647                24  \n",
       "48832               363  \n",
       "48867               338  \n",
       "48868               365  \n",
       "\n",
       "[404 rows x 16 columns]"
      ],
      "text/html": [
       "<div>\n",
       "<style scoped>\n",
       "    .dataframe tbody tr th:only-of-type {\n",
       "        vertical-align: middle;\n",
       "    }\n",
       "\n",
       "    .dataframe tbody tr th {\n",
       "        vertical-align: top;\n",
       "    }\n",
       "\n",
       "    .dataframe thead th {\n",
       "        text-align: right;\n",
       "    }\n",
       "</style>\n",
       "<table border=\"1\" class=\"dataframe\">\n",
       "  <thead>\n",
       "    <tr style=\"text-align: right;\">\n",
       "      <th></th>\n",
       "      <th>id</th>\n",
       "      <th>name</th>\n",
       "      <th>host_id</th>\n",
       "      <th>host_name</th>\n",
       "      <th>neighbourhood_group</th>\n",
       "      <th>neighbourhood</th>\n",
       "      <th>latitude</th>\n",
       "      <th>longitude</th>\n",
       "      <th>room_type</th>\n",
       "      <th>price</th>\n",
       "      <th>minimum_nights</th>\n",
       "      <th>number_of_reviews</th>\n",
       "      <th>last_review</th>\n",
       "      <th>reviews_per_month</th>\n",
       "      <th>calculated_host_listings_count</th>\n",
       "      <th>availability_365</th>\n",
       "    </tr>\n",
       "  </thead>\n",
       "  <tbody>\n",
       "    <tr>\n",
       "      <th>957</th>\n",
       "      <td>375249</td>\n",
       "      <td>Enjoy Staten Island Hospitality</td>\n",
       "      <td>1887999</td>\n",
       "      <td>Rimma &amp; Jim</td>\n",
       "      <td>Staten Island</td>\n",
       "      <td>Graniteville</td>\n",
       "      <td>40.62109</td>\n",
       "      <td>-74.16534</td>\n",
       "      <td>Private room</td>\n",
       "      <td>20</td>\n",
       "      <td>3</td>\n",
       "      <td>80</td>\n",
       "      <td>2019-05-26</td>\n",
       "      <td>0.92</td>\n",
       "      <td>1</td>\n",
       "      <td>226</td>\n",
       "    </tr>\n",
       "    <tr>\n",
       "      <th>2675</th>\n",
       "      <td>1428154</td>\n",
       "      <td>Central, Peaceful Semi-Private Room</td>\n",
       "      <td>5912572</td>\n",
       "      <td>Tangier</td>\n",
       "      <td>Brooklyn</td>\n",
       "      <td>Flatbush</td>\n",
       "      <td>40.63899</td>\n",
       "      <td>-73.95177</td>\n",
       "      <td>Shared room</td>\n",
       "      <td>29</td>\n",
       "      <td>2</td>\n",
       "      <td>5</td>\n",
       "      <td>2014-10-20</td>\n",
       "      <td>0.07</td>\n",
       "      <td>1</td>\n",
       "      <td>321</td>\n",
       "    </tr>\n",
       "    <tr>\n",
       "      <th>2860</th>\n",
       "      <td>1620248</td>\n",
       "      <td>Large furnished 2 bedrooms- - 30 days Minimum</td>\n",
       "      <td>2196224</td>\n",
       "      <td>Sally</td>\n",
       "      <td>Manhattan</td>\n",
       "      <td>East Village</td>\n",
       "      <td>40.73051</td>\n",
       "      <td>-73.98140</td>\n",
       "      <td>Entire home/apt</td>\n",
       "      <td>10</td>\n",
       "      <td>30</td>\n",
       "      <td>0</td>\n",
       "      <td>NaN</td>\n",
       "      <td>NaN</td>\n",
       "      <td>4</td>\n",
       "      <td>137</td>\n",
       "    </tr>\n",
       "    <tr>\n",
       "      <th>3020</th>\n",
       "      <td>1767037</td>\n",
       "      <td>Small Cozy Room Wifi &amp; AC near JFK</td>\n",
       "      <td>9284163</td>\n",
       "      <td>Antonio</td>\n",
       "      <td>Queens</td>\n",
       "      <td>Woodhaven</td>\n",
       "      <td>40.68968</td>\n",
       "      <td>-73.85219</td>\n",
       "      <td>Private room</td>\n",
       "      <td>29</td>\n",
       "      <td>2</td>\n",
       "      <td>386</td>\n",
       "      <td>2019-06-19</td>\n",
       "      <td>5.53</td>\n",
       "      <td>3</td>\n",
       "      <td>50</td>\n",
       "    </tr>\n",
       "    <tr>\n",
       "      <th>3918</th>\n",
       "      <td>2431607</td>\n",
       "      <td>Bright, Airy Room Share for 2</td>\n",
       "      <td>4973668</td>\n",
       "      <td>Gloria</td>\n",
       "      <td>Brooklyn</td>\n",
       "      <td>Bedford-Stuyvesant</td>\n",
       "      <td>40.68642</td>\n",
       "      <td>-73.93440</td>\n",
       "      <td>Shared room</td>\n",
       "      <td>25</td>\n",
       "      <td>5</td>\n",
       "      <td>76</td>\n",
       "      <td>2019-06-06</td>\n",
       "      <td>1.22</td>\n",
       "      <td>3</td>\n",
       "      <td>258</td>\n",
       "    </tr>\n",
       "    <tr>\n",
       "      <th>...</th>\n",
       "      <td>...</td>\n",
       "      <td>...</td>\n",
       "      <td>...</td>\n",
       "      <td>...</td>\n",
       "      <td>...</td>\n",
       "      <td>...</td>\n",
       "      <td>...</td>\n",
       "      <td>...</td>\n",
       "      <td>...</td>\n",
       "      <td>...</td>\n",
       "      <td>...</td>\n",
       "      <td>...</td>\n",
       "      <td>...</td>\n",
       "      <td>...</td>\n",
       "      <td>...</td>\n",
       "      <td>...</td>\n",
       "    </tr>\n",
       "    <tr>\n",
       "      <th>48486</th>\n",
       "      <td>36280646</td>\n",
       "      <td>Cable and wfi, L/G included.</td>\n",
       "      <td>272872092</td>\n",
       "      <td>Chris</td>\n",
       "      <td>Queens</td>\n",
       "      <td>Forest Hills</td>\n",
       "      <td>40.73657</td>\n",
       "      <td>-73.85088</td>\n",
       "      <td>Entire home/apt</td>\n",
       "      <td>16</td>\n",
       "      <td>9</td>\n",
       "      <td>1</td>\n",
       "      <td>2019-07-07</td>\n",
       "      <td>1.00</td>\n",
       "      <td>1</td>\n",
       "      <td>322</td>\n",
       "    </tr>\n",
       "    <tr>\n",
       "      <th>48647</th>\n",
       "      <td>36354776</td>\n",
       "      <td>Cozy bedroom in diverse neighborhood near JFK</td>\n",
       "      <td>273393150</td>\n",
       "      <td>Liza</td>\n",
       "      <td>Queens</td>\n",
       "      <td>Richmond Hill</td>\n",
       "      <td>40.68639</td>\n",
       "      <td>-73.81847</td>\n",
       "      <td>Private room</td>\n",
       "      <td>28</td>\n",
       "      <td>2</td>\n",
       "      <td>0</td>\n",
       "      <td>NaN</td>\n",
       "      <td>NaN</td>\n",
       "      <td>1</td>\n",
       "      <td>24</td>\n",
       "    </tr>\n",
       "    <tr>\n",
       "      <th>48832</th>\n",
       "      <td>36450814</td>\n",
       "      <td>FLATBUSH HANG OUT AND GO</td>\n",
       "      <td>267223765</td>\n",
       "      <td>Jarmel</td>\n",
       "      <td>Brooklyn</td>\n",
       "      <td>Flatbush</td>\n",
       "      <td>40.64922</td>\n",
       "      <td>-73.96078</td>\n",
       "      <td>Shared room</td>\n",
       "      <td>20</td>\n",
       "      <td>1</td>\n",
       "      <td>0</td>\n",
       "      <td>NaN</td>\n",
       "      <td>NaN</td>\n",
       "      <td>3</td>\n",
       "      <td>363</td>\n",
       "    </tr>\n",
       "    <tr>\n",
       "      <th>48867</th>\n",
       "      <td>36473044</td>\n",
       "      <td>The place you were dreaming for.(only for guys)</td>\n",
       "      <td>261338177</td>\n",
       "      <td>Diana</td>\n",
       "      <td>Brooklyn</td>\n",
       "      <td>Gravesend</td>\n",
       "      <td>40.59080</td>\n",
       "      <td>-73.97116</td>\n",
       "      <td>Shared room</td>\n",
       "      <td>25</td>\n",
       "      <td>1</td>\n",
       "      <td>0</td>\n",
       "      <td>NaN</td>\n",
       "      <td>NaN</td>\n",
       "      <td>6</td>\n",
       "      <td>338</td>\n",
       "    </tr>\n",
       "    <tr>\n",
       "      <th>48868</th>\n",
       "      <td>36473253</td>\n",
       "      <td>Heaven for you(only for guy)</td>\n",
       "      <td>261338177</td>\n",
       "      <td>Diana</td>\n",
       "      <td>Brooklyn</td>\n",
       "      <td>Gravesend</td>\n",
       "      <td>40.59118</td>\n",
       "      <td>-73.97119</td>\n",
       "      <td>Shared room</td>\n",
       "      <td>25</td>\n",
       "      <td>7</td>\n",
       "      <td>0</td>\n",
       "      <td>NaN</td>\n",
       "      <td>NaN</td>\n",
       "      <td>6</td>\n",
       "      <td>365</td>\n",
       "    </tr>\n",
       "  </tbody>\n",
       "</table>\n",
       "<p>404 rows × 16 columns</p>\n",
       "</div>"
      ]
     },
     "execution_count": 277,
     "metadata": {},
     "output_type": "execute_result"
    }
   ],
   "execution_count": 277
  },
  {
   "metadata": {
    "ExecuteTime": {
     "end_time": "2024-08-15T16:42:49.562975Z",
     "start_time": "2024-08-15T16:42:49.552399Z"
    }
   },
   "cell_type": "code",
   "source": [
    "df2 = df[(df.price>min_threshold)&(df.price<max_threshold)]\n",
    "df2.shape"
   ],
   "id": "89cb6a459f89da89",
   "outputs": [
    {
     "data": {
      "text/plain": [
       "(48183, 16)"
      ]
     },
     "execution_count": 278,
     "metadata": {},
     "output_type": "execute_result"
    }
   ],
   "execution_count": 278
  },
  {
   "metadata": {
    "ExecuteTime": {
     "end_time": "2024-08-15T16:42:49.669721Z",
     "start_time": "2024-08-15T16:42:49.659690Z"
    }
   },
   "cell_type": "code",
   "source": "df2.sample(5)",
   "id": "343256bf92c67d26",
   "outputs": [
    {
     "data": {
      "text/plain": [
       "             id                                           name    host_id  \\\n",
       "5758    4196039                      Artist's Studio Apartment   21768291   \n",
       "24710  19847087  Cool Astoria Apartment minutes from Manhattan  114596544   \n",
       "5921    4329728             Spacious room with view in Chelsea    2657430   \n",
       "11918   9281688                     Cozy Cove in Crown Heights     114649   \n",
       "2298    1108309            Charming Housebarge w/ outside deck    1018472   \n",
       "\n",
       "      host_name neighbourhood_group   neighbourhood  latitude  longitude  \\\n",
       "5758         Jo            Brooklyn      Greenpoint  40.72401  -73.94016   \n",
       "24710    Martin              Queens         Astoria  40.76791  -73.92247   \n",
       "5921      Rahul           Manhattan         Chelsea  40.74751  -74.00086   \n",
       "11918     Onome            Brooklyn   Crown Heights  40.66933  -73.92520   \n",
       "2298      Angus            Brooklyn  Sheepshead Bay  40.58408  -73.94122   \n",
       "\n",
       "             room_type  price  minimum_nights  number_of_reviews last_review  \\\n",
       "5758   Entire home/apt     75               2                  0         NaN   \n",
       "24710  Entire home/apt     95               3                 19  2018-01-08   \n",
       "5921      Private room    110               6                 20  2018-01-01   \n",
       "11918     Private room     40               7                 23  2018-12-26   \n",
       "2298   Entire home/apt     85               4                 72  2016-05-28   \n",
       "\n",
       "       reviews_per_month  calculated_host_listings_count  availability_365  \n",
       "5758                 NaN                               1                 0  \n",
       "24710               0.79                               1                 0  \n",
       "5921                0.36                               2                 0  \n",
       "11918               0.57                               1               130  \n",
       "2298                0.97                               2               360  "
      ],
      "text/html": [
       "<div>\n",
       "<style scoped>\n",
       "    .dataframe tbody tr th:only-of-type {\n",
       "        vertical-align: middle;\n",
       "    }\n",
       "\n",
       "    .dataframe tbody tr th {\n",
       "        vertical-align: top;\n",
       "    }\n",
       "\n",
       "    .dataframe thead th {\n",
       "        text-align: right;\n",
       "    }\n",
       "</style>\n",
       "<table border=\"1\" class=\"dataframe\">\n",
       "  <thead>\n",
       "    <tr style=\"text-align: right;\">\n",
       "      <th></th>\n",
       "      <th>id</th>\n",
       "      <th>name</th>\n",
       "      <th>host_id</th>\n",
       "      <th>host_name</th>\n",
       "      <th>neighbourhood_group</th>\n",
       "      <th>neighbourhood</th>\n",
       "      <th>latitude</th>\n",
       "      <th>longitude</th>\n",
       "      <th>room_type</th>\n",
       "      <th>price</th>\n",
       "      <th>minimum_nights</th>\n",
       "      <th>number_of_reviews</th>\n",
       "      <th>last_review</th>\n",
       "      <th>reviews_per_month</th>\n",
       "      <th>calculated_host_listings_count</th>\n",
       "      <th>availability_365</th>\n",
       "    </tr>\n",
       "  </thead>\n",
       "  <tbody>\n",
       "    <tr>\n",
       "      <th>5758</th>\n",
       "      <td>4196039</td>\n",
       "      <td>Artist's Studio Apartment</td>\n",
       "      <td>21768291</td>\n",
       "      <td>Jo</td>\n",
       "      <td>Brooklyn</td>\n",
       "      <td>Greenpoint</td>\n",
       "      <td>40.72401</td>\n",
       "      <td>-73.94016</td>\n",
       "      <td>Entire home/apt</td>\n",
       "      <td>75</td>\n",
       "      <td>2</td>\n",
       "      <td>0</td>\n",
       "      <td>NaN</td>\n",
       "      <td>NaN</td>\n",
       "      <td>1</td>\n",
       "      <td>0</td>\n",
       "    </tr>\n",
       "    <tr>\n",
       "      <th>24710</th>\n",
       "      <td>19847087</td>\n",
       "      <td>Cool Astoria Apartment minutes from Manhattan</td>\n",
       "      <td>114596544</td>\n",
       "      <td>Martin</td>\n",
       "      <td>Queens</td>\n",
       "      <td>Astoria</td>\n",
       "      <td>40.76791</td>\n",
       "      <td>-73.92247</td>\n",
       "      <td>Entire home/apt</td>\n",
       "      <td>95</td>\n",
       "      <td>3</td>\n",
       "      <td>19</td>\n",
       "      <td>2018-01-08</td>\n",
       "      <td>0.79</td>\n",
       "      <td>1</td>\n",
       "      <td>0</td>\n",
       "    </tr>\n",
       "    <tr>\n",
       "      <th>5921</th>\n",
       "      <td>4329728</td>\n",
       "      <td>Spacious room with view in Chelsea</td>\n",
       "      <td>2657430</td>\n",
       "      <td>Rahul</td>\n",
       "      <td>Manhattan</td>\n",
       "      <td>Chelsea</td>\n",
       "      <td>40.74751</td>\n",
       "      <td>-74.00086</td>\n",
       "      <td>Private room</td>\n",
       "      <td>110</td>\n",
       "      <td>6</td>\n",
       "      <td>20</td>\n",
       "      <td>2018-01-01</td>\n",
       "      <td>0.36</td>\n",
       "      <td>2</td>\n",
       "      <td>0</td>\n",
       "    </tr>\n",
       "    <tr>\n",
       "      <th>11918</th>\n",
       "      <td>9281688</td>\n",
       "      <td>Cozy Cove in Crown Heights</td>\n",
       "      <td>114649</td>\n",
       "      <td>Onome</td>\n",
       "      <td>Brooklyn</td>\n",
       "      <td>Crown Heights</td>\n",
       "      <td>40.66933</td>\n",
       "      <td>-73.92520</td>\n",
       "      <td>Private room</td>\n",
       "      <td>40</td>\n",
       "      <td>7</td>\n",
       "      <td>23</td>\n",
       "      <td>2018-12-26</td>\n",
       "      <td>0.57</td>\n",
       "      <td>1</td>\n",
       "      <td>130</td>\n",
       "    </tr>\n",
       "    <tr>\n",
       "      <th>2298</th>\n",
       "      <td>1108309</td>\n",
       "      <td>Charming Housebarge w/ outside deck</td>\n",
       "      <td>1018472</td>\n",
       "      <td>Angus</td>\n",
       "      <td>Brooklyn</td>\n",
       "      <td>Sheepshead Bay</td>\n",
       "      <td>40.58408</td>\n",
       "      <td>-73.94122</td>\n",
       "      <td>Entire home/apt</td>\n",
       "      <td>85</td>\n",
       "      <td>4</td>\n",
       "      <td>72</td>\n",
       "      <td>2016-05-28</td>\n",
       "      <td>0.97</td>\n",
       "      <td>2</td>\n",
       "      <td>360</td>\n",
       "    </tr>\n",
       "  </tbody>\n",
       "</table>\n",
       "</div>"
      ]
     },
     "execution_count": 279,
     "metadata": {},
     "output_type": "execute_result"
    }
   ],
   "execution_count": 279
  },
  {
   "metadata": {
    "ExecuteTime": {
     "end_time": "2024-08-15T16:42:49.730120Z",
     "start_time": "2024-08-15T16:42:49.720363Z"
    }
   },
   "cell_type": "code",
   "source": "df2.price.describe()",
   "id": "637060d2c091fd8c",
   "outputs": [
    {
     "data": {
      "text/plain": [
       "count    48183.000000\n",
       "mean       148.772036\n",
       "std        153.594795\n",
       "min         31.000000\n",
       "25%         70.000000\n",
       "50%        110.000000\n",
       "75%        179.000000\n",
       "max       2999.000000\n",
       "Name: price, dtype: float64"
      ]
     },
     "execution_count": 280,
     "metadata": {},
     "output_type": "execute_result"
    }
   ],
   "execution_count": 280
  },
  {
   "metadata": {},
   "cell_type": "markdown",
   "source": "5A. Read a CSV file containing rainfall data, handle missing values, detect and handle outliers, and display the cleaned dataset using Python.\n",
   "id": "a1dc14f802ee47"
  },
  {
   "metadata": {
    "ExecuteTime": {
     "end_time": "2024-08-15T16:42:49.828814Z",
     "start_time": "2024-08-15T16:42:49.825374Z"
    }
   },
   "cell_type": "code",
   "source": "import pandas as pd ",
   "id": "4142e775c395854e",
   "outputs": [],
   "execution_count": 281
  },
  {
   "metadata": {
    "ExecuteTime": {
     "end_time": "2024-08-15T16:42:49.872086Z",
     "start_time": "2024-08-15T16:42:49.864819Z"
    }
   },
   "cell_type": "code",
   "source": [
    "df = pd.read_csv(\"rainfall.csv\")\n",
    "print(\"Initial Dataset:\\n\", df)"
   ],
   "id": "1be0ef07f2a61e3d",
   "outputs": [
    {
     "name": "stdout",
     "output_type": "stream",
     "text": [
      "Initial Dataset:\n",
      "    YEAR   JAN    FEB   MAR    APR    MAY    JUN    JUL\n",
      "0  1901  49.2   87.1  29.2    2.3  528.8  517.5  365.1\n",
      "1  1902   0.0  159.8  12.2    0.0  446.1  537.1  228.9\n",
      "2  1903  12.7  144.0   0.0    1.0  235.1  479.9  728.4\n",
      "3  1904   9.4   14.7   0.0  202.4  304.5  495.1  502.0\n"
     ]
    }
   ],
   "execution_count": 282
  },
  {
   "metadata": {
    "ExecuteTime": {
     "end_time": "2024-08-15T16:42:49.997604Z",
     "start_time": "2024-08-15T16:42:49.985194Z"
    }
   },
   "cell_type": "code",
   "source": [
    "# Handle missing values (fill with the mean of the column as an example)\n",
    "df.fillna(df.mean(), inplace=True)\n",
    "\n",
    "# Detect and handle outliers\n",
    "# One common method is using the IQR (Interquartile Range) to identify outliers\n",
    "  \n",
    "def handle_outliers(column):\n",
    "    q1 = column.quantile(0.25)\n",
    "    q3 = column.quantile(0.75)\n",
    "    iqr = q3 - q1\n",
    "    lower_bound = q1 - 1.5 * iqr\n",
    "    upper_bound = q3 + 1.5 * iqr\n",
    "    median = column.median()\n",
    "    return column.apply(lambda x: median if x < lower_bound or x > upper_bound else x)\n",
    "\n",
    "for col in df.columns[2:]:\n",
    "    df[col] = handle_outliers(df[col])\n",
    "\n",
    "\n",
    "print(\"\\nCleaned Dataset:\\n\", df)"
   ],
   "id": "fe8f409f0d23bc3f",
   "outputs": [
    {
     "name": "stdout",
     "output_type": "stream",
     "text": [
      "\n",
      "Cleaned Dataset:\n",
      "    YEAR   JAN    FEB   MAR   APR    MAY    JUN    JUL\n",
      "0  1901  49.2   87.1  29.2  2.30  528.8  517.5  365.1\n",
      "1  1902   0.0  159.8  12.2  0.00  446.1  537.1  228.9\n",
      "2  1903  12.7  144.0   0.0  1.00  235.1  479.9  728.4\n",
      "3  1904   9.4   14.7   0.0  1.65  304.5  495.1  502.0\n"
     ]
    }
   ],
   "execution_count": 283
  }
 ],
 "metadata": {
  "kernelspec": {
   "display_name": "Python 3 (ipykernel)",
   "language": "python",
   "name": "python3"
  },
  "language_info": {
   "codemirror_mode": {
    "name": "ipython",
    "version": 3
   },
   "file_extension": ".py",
   "mimetype": "text/x-python",
   "name": "python",
   "nbconvert_exporter": "python",
   "pygments_lexer": "ipython3",
   "version": "3.12.4"
  }
 },
 "nbformat": 4,
 "nbformat_minor": 5
}
