{
 "cells": [
  {
   "cell_type": "markdown",
   "metadata": {},
   "source": [
    "Excersise - 1"
   ]
  },
  {
   "cell_type": "markdown",
   "metadata": {},
   "source": [
    "Program - 1\n",
    "\n",
    "Create a code for stacking 1D arrays horizontally\n",
    "Given:\n",
    "Array-1: [1, 2, 3]\n",
    "Array-2: [4, 5, 6]"
   ]
  },
  {
   "cell_type": "code",
   "execution_count": 1,
   "metadata": {
    "ExecuteTime": {
     "end_time": "2024-08-15T15:37:22.617010Z",
     "start_time": "2024-08-15T15:37:22.510722Z"
    }
   },
   "outputs": [
    {
     "name": "stdout",
     "output_type": "stream",
     "text": [
      "\n",
      "[1 2 3 4 5 6]\n"
     ]
    }
   ],
   "source": [
    "import numpy\n",
    "\n",
    "ary_1 = numpy.array([1, 2, 3])\n",
    "print()\n",
    "ary_2 = numpy.array([4, 5, 6])\n",
    "final_ary = numpy.hstack((ary_1, ary_2))\n",
    "\n",
    "print(final_ary)"
   ]
  },
  {
   "cell_type": "markdown",
   "metadata": {},
   "source": [
    "Program - 2\n",
    "\n",
    "Create a program to get the unique values from the array with the aid of Numpy!\n",
    "Given: [1, 2, 2, 4, 3, 6, 4, 8]"
   ]
  },
  {
   "cell_type": "code",
   "execution_count": 2,
   "metadata": {
    "ExecuteTime": {
     "end_time": "2024-08-15T15:37:22.621416Z",
     "start_time": "2024-08-15T15:37:22.617288Z"
    }
   },
   "outputs": [
    {
     "name": "stdout",
     "output_type": "stream",
     "text": [
      "[1 2 3 4 6 8]\n"
     ]
    }
   ],
   "source": [
    "import numpy as np\n",
    "\n",
    "a = [1, 2, 2, 4, 3, 6, 4, 8]\n",
    "\n",
    "uniq_val = np.unique(a)\n",
    "print(uniq_val)"
   ]
  },
  {
   "cell_type": "markdown",
   "metadata": {},
   "source": [
    "Program - 3\n",
    "\n",
    "Given Matrix a = [[1, 2, 3], [4, 9, 6], [7, 8, 9]]. Find its inverse using \"linalg.inv\" function in NumPy."
   ]
  },
  {
   "cell_type": "code",
   "execution_count": 3,
   "metadata": {
    "ExecuteTime": {
     "end_time": "2024-08-15T15:37:22.631239Z",
     "start_time": "2024-08-15T15:37:22.622421Z"
    }
   },
   "outputs": [
    {
     "name": "stdout",
     "output_type": "stream",
     "text": [
      "[[-0.6875     -0.125       0.3125    ]\n",
      " [-0.125       0.25       -0.125     ]\n",
      " [ 0.64583333 -0.125      -0.02083333]]\n"
     ]
    }
   ],
   "source": [
    "a = [[1, 2, 3], [4, 9, 6], [7, 8, 9]]\n",
    "\n",
    "a_inv = np.linalg.inv(a)\n",
    "print(a_inv)"
   ]
  },
  {
   "cell_type": "markdown",
   "metadata": {},
   "source": [
    "Program - 4\n",
    "\n",
    "Given 1D array a=[1, 2, 3, 4, 5, 6, 7, 8, 9, 10, 11, 12, 13, 14, 15, 16]. Reshape it into a 3D array. Again reshape back to 1D array. Display all!"
   ]
  },
  {
   "cell_type": "code",
   "execution_count": 4,
   "metadata": {
    "ExecuteTime": {
     "end_time": "2024-08-15T15:37:22.638827Z",
     "start_time": "2024-08-15T15:37:22.632247Z"
    }
   },
   "outputs": [
    {
     "name": "stdout",
     "output_type": "stream",
     "text": [
      "[ 1  2  3  4  5  6  7  8  9 10 11 12 13 14 15 16] \n",
      "\n",
      "[[[ 1  2]\n",
      "  [ 3  4]\n",
      "  [ 5  6]\n",
      "  [ 7  8]]\n",
      "\n",
      " [[ 9 10]\n",
      "  [11 12]\n",
      "  [13 14]\n",
      "  [15 16]]] \n",
      "\n",
      "[ 1  2  3  4  5  6  7  8  9 10 11 12 13 14 15 16] \n",
      "\n"
     ]
    }
   ],
   "source": [
    "import numpy as np\n",
    "\n",
    "a = np.array([1, 2, 3, 4, 5, 6, 7, 8, 9, 10, 11, 12, 13, 14, 15, 16])\n",
    "a_3d = a.reshape(2, 4, 2)\n",
    "a_1d_again=a_3d.reshape(-1)\n",
    "print(a,\"\\n\")\n",
    "print(a_3d,\"\\n\")\n",
    "print(a_1d_again,\"\\n\")"
   ]
  },
  {
   "cell_type": "markdown",
   "metadata": {},
   "source": [
    "Program - 5\n",
    "\n",
    "Suppose a sensor generates the following data Sequence as x = [2, 3, 5, 6, 7, 9]. If the Central/Observed Value is 7, calculate deviation of each data values."
   ]
  },
  {
   "cell_type": "code",
   "execution_count": 5,
   "metadata": {
    "ExecuteTime": {
     "end_time": "2024-08-15T15:37:22.645018Z",
     "start_time": "2024-08-15T15:37:22.639847Z"
    }
   },
   "outputs": [
    {
     "name": "stdout",
     "output_type": "stream",
     "text": [
      "[-5 -4 -2 -1  0  2]\n"
     ]
    }
   ],
   "source": [
    "import numpy as np\n",
    "\n",
    "central_value = 7\n",
    "x = np.array([2, 3, 5, 6, 7, 9])\n",
    "deviation = x - central_value\n",
    "\n",
    "print(deviation)"
   ]
  },
  {
   "cell_type": "markdown",
   "metadata": {},
   "source": [
    "Program - 6\n",
    "\n",
    "Create a 2D array [[0,1,7,0,0],[3,0,0,2,19]]. Count number of non-zero elements."
   ]
  },
  {
   "cell_type": "code",
   "execution_count": 6,
   "metadata": {
    "ExecuteTime": {
     "end_time": "2024-08-15T15:37:22.653030Z",
     "start_time": "2024-08-15T15:37:22.646024Z"
    }
   },
   "outputs": [
    {
     "name": "stdout",
     "output_type": "stream",
     "text": [
      "5\n"
     ]
    }
   ],
   "source": [
    "import numpy as np\n",
    "\n",
    "array_2d = np.array([[0, 1, 7, 0, 0], [3, 0, 0, 2, 19]])\n",
    "non_zero_count = np.count_nonzero(array_2d)\n",
    "\n",
    "print(non_zero_count)"
   ]
  },
  {
   "cell_type": "markdown",
   "metadata": {},
   "source": [
    "Program - 7\n",
    "\n",
    "Create a list, num_list = [10, 20, 30, 40, 50]. Using np.random.choice, select the elements with probability values, 0.1, 0.3, 0, 0.4, 0.2.\n"
   ]
  },
  {
   "cell_type": "code",
   "execution_count": 7,
   "metadata": {
    "ExecuteTime": {
     "end_time": "2024-08-15T15:37:22.660299Z",
     "start_time": "2024-08-15T15:37:22.654035Z"
    }
   },
   "outputs": [
    {
     "name": "stdout",
     "output_type": "stream",
     "text": [
      "[50 20 20 20 50]\n"
     ]
    }
   ],
   "source": [
    "import numpy as np\n",
    "\n",
    "num_list = [10, 20, 30, 40, 50]\n",
    "prob_values = [0.1, 0.3, 0, 0.4, 0.2]\n",
    "selected_elements = np.random.choice(num_list, size=len(num_list), p=prob_values)\n",
    "\n",
    "print(selected_elements)"
   ]
  },
  {
   "cell_type": "markdown",
   "metadata": {},
   "source": [
    "Program - 8\n",
    "\n",
    "Generate a 3x3 matrix with random values. Find its Transpose, Inverse Matrices."
   ]
  },
  {
   "cell_type": "code",
   "execution_count": 8,
   "metadata": {
    "ExecuteTime": {
     "end_time": "2024-08-15T15:37:22.668325Z",
     "start_time": "2024-08-15T15:37:22.661319Z"
    }
   },
   "outputs": [
    {
     "name": "stdout",
     "output_type": "stream",
     "text": [
      "Original Matrix:\n",
      " [[0.93514293 0.1847391  0.24270743]\n",
      " [0.08251826 0.92744681 0.13189634]\n",
      " [0.48248731 0.62463334 0.55515189]]\n",
      "Transpose Matrix:\n",
      " [[0.93514293 0.08251826 0.48248731]\n",
      " [0.1847391  0.92744681 0.62463334]\n",
      " [0.24270743 0.13189634 0.55515189]]\n",
      "Inverse Matrix:\n",
      " [[ 1.38780561  0.15737994 -0.64412746]\n",
      " [ 0.05720863  1.29011434 -0.33152425]\n",
      " [-1.27052258 -1.58836216  2.73414258]]\n"
     ]
    }
   ],
   "source": [
    "import numpy as np\n",
    "\n",
    "matrix = np.random.rand(3,3)\n",
    "\n",
    "transpose_matrix = matrix.T\n",
    "\n",
    "inverse_matrix = np.linalg.inv(matrix)\n",
    "\n",
    "print(\"Original Matrix:\\n\", matrix)\n",
    "print(\"Transpose Matrix:\\n\", transpose_matrix)\n",
    "print(\"Inverse Matrix:\\n\", inverse_matrix)"
   ]
  },
  {
   "cell_type": "markdown",
   "metadata": {},
   "source": [
    "Program - 9\n",
    "\n",
    "Use Geometric Random distribution for generating 3000 samples with the probability of an individual success equal to 0.35. Plot the histogram with 30 bins. Observe changes in the plot for 10 / 40 / 100 bins."
   ]
  },
  {
   "cell_type": "code",
   "execution_count": 11,
   "metadata": {
    "ExecuteTime": {
     "end_time": "2024-08-15T15:37:23.515002Z",
     "start_time": "2024-08-15T15:37:22.669330Z"
    }
   },
   "outputs": [
    {
     "name": "stdout",
     "output_type": "stream",
     "text": [
      "[2 1 4 ... 2 3 1]\n"
     ]
    },
    {
     "data": {
      "image/png": "[encoded data removed]",
      "text/plain": [
       "<Figure size 640x480 with 1 Axes>"
      ]
     },
     "metadata": {},
     "output_type": "display_data"
    }
   ],
   "source": [
    "import numpy as np\n",
    "import matplotlib.pyplot as plt\n",
    "\n",
    "samples = np.random.geometric(p=0.35, size=3000)\n",
    "\n",
    "plt.hist(samples, bins=30, alpha=0.5, label='30 bins')\n",
    "plt.hist(samples, bins=10, alpha=0.5, label='10 bins')\n",
    "plt.hist(samples, bins=40, alpha=0.5, label='40 bins')\n",
    "plt.hist(samples, bins=100, alpha=0.5, label='100 bins')\n",
    "\n",
    "plt.legend()\n",
    "plt.show()"
   ]
  },
  {
   "cell_type": "markdown",
   "metadata": {},
   "source": [
    "Program - 10\n",
    "\n",
    "Suppose a temperature sensor of an ICU patient generates x=[34.4, 32.5, 39.2, 36.0, 34.8, 32.9, 33.1], Assume that <=34.0 C as normal, count number of times, the patient suffer by high temperature. Plot this temperature readings as a graph with proper title, x-axis and y-axis labels."
   ]
  },
  {
   "cell_type": "code",
   "execution_count": 10,
   "metadata": {
    "ExecuteTime": {
     "end_time": "2024-09-06T05:15:06.491704Z",
     "start_time": "2024-09-06T05:15:06.307990Z"
    }
   },
   "outputs": [
    {
     "data": {
      "image/png": "[encoded data removed]",
      "text/plain": [
       "<Figure size 1000x600 with 1 Axes>"
      ]
     },
     "metadata": {},
     "output_type": "display_data"
    },
    {
     "name": "stdout",
     "output_type": "stream",
     "text": [
      "Number of times the patient had a high temperature: 4\n"
     ]
    }
   ],
   "source": [
    "import numpy as np\n",
    "import matplotlib.pyplot as plt\n",
    "\n",
    "x = np.array([34.4, 32.5, 39.2, 36.0, 34.8, 32.9, 33.1])\n",
    "high_temp_count = np.sum(x > 34.0)\n",
    "plt.figure(figsize=(10, 6))\n",
    "plt.plot(x, marker='o', linestyle='-', color='b')\n",
    "plt.axhline(y=34.0, color='r', linestyle='--')\n",
    "\n",
    "for i, temp in enumerate(x):\n",
    "    if temp > 34.0:\n",
    "        plt.plot(i, temp, marker='o', color='r')\n",
    "\n",
    "plt.title('ICU Patient Temperature Readings')\n",
    "plt.xlabel('Measurement Time')\n",
    "plt.ylabel('Temperature (C)')\n",
    "plt.grid(True)\n",
    "plt.show()\n",
    "\n",
    "print(f\"Number of times the patient had a high temperature: {high_temp_count}\")"
   ]
  }
 ],
 "metadata": {
  "kernelspec": {
   "display_name": "Python 3",
   "language": "python",
   "name": "python3"
  },
  "language_info": {
   "codemirror_mode": {
    "name": "ipython",
    "version": 3
   },
   "file_extension": ".py",
   "mimetype": "text/x-python",
   "name": "python",
   "nbconvert_exporter": "python",
   "pygments_lexer": "ipython3",
   "version": "3.12.4"
  }
 },
 "nbformat": 4,
 "nbformat_minor": 4
}
