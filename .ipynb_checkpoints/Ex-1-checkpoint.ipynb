{
 "cells": [
  {
   "cell_type": "markdown",
   "metadata": {},
   "source": [
    "Excersise - 1"
   ]
  },
  {
   "cell_type": "markdown",
   "metadata": {},
   "source": [
    "Program - 1\n",
    "\n",
    "Create a code for stacking 1D arrays horizontally\n",
    "Given:\n",
    "Array-1: [1, 2, 3]\n",
    "Array-2: [4, 5, 6]"
   ]
  },
  {
   "cell_type": "code",
   "metadata": {
    "ExecuteTime": {
     "end_time": "2024-07-19T15:32:24.474422Z",
     "start_time": "2024-07-19T15:32:24.467025Z"
    }
   },
   "source": [
    "import numpy\n",
    "\n",
    "ary_1 = numpy.array([1, 2, 3])\n",
    "print()\n",
    "ary_2 = numpy.array([4, 5, 6])\n",
    "final_ary = numpy.hstack((ary_1, ary_2))\n",
    "\n",
    "print(final_ary)"
   ],
   "outputs": [
    {
     "name": "stdout",
     "output_type": "stream",
     "text": [
      "\n",
      "[1 2 3 4 5 6]\n"
     ]
    }
   ],
   "execution_count": 2
  },
  {
   "cell_type": "markdown",
   "metadata": {},
   "source": []
  },
  {
   "cell_type": "markdown",
   "metadata": {},
   "source": [
    "Program - 2\n",
    "\n",
    "Create a program to get the unique values from the array with the aid of Numpy!\n",
    "Given: [1, 2, 2, 4, 3, 6, 4, 8]"
   ]
  },
  {
   "cell_type": "code",
   "metadata": {
    "ExecuteTime": {
     "end_time": "2024-07-19T15:32:24.532033Z",
     "start_time": "2024-07-19T15:32:24.511696Z"
    }
   },
   "source": [
    "import numpy as np\n",
    "\n",
    "a = [1, 2, 2, 4, 3, 6, 4, 8]\n",
    "\n",
    "uniq_val = np.unique(a)\n",
    "print(uniq_val)"
   ],
   "outputs": [
    {
     "name": "stdout",
     "output_type": "stream",
     "text": [
      "[1 2 3 4 6 8]\n"
     ]
    }
   ],
   "execution_count": 3
  },
  {
   "cell_type": "markdown",
   "metadata": {},
   "source": [
    "Program - 3\n",
    "\n",
    "Given Matrix a = [[1, 2, 3], [4, 9, 6], [7, 8, 9]]. Find its inverse using \"linalg.inv\" function in NumPy."
   ]
  },
  {
   "cell_type": "code",
   "metadata": {
    "ExecuteTime": {
     "end_time": "2024-07-19T15:32:24.550889Z",
     "start_time": "2024-07-19T15:32:24.543285Z"
    }
   },
   "source": [
    "a = [[1, 2, 3], [4, 9, 6], [7, 8, 9]]\n",
    "\n",
    "a_inv = np.linalg.inv(a)\n",
    "print(a_inv)"
   ],
   "outputs": [
    {
     "name": "stdout",
     "output_type": "stream",
     "text": [
      "[[-0.6875     -0.125       0.3125    ]\n",
      " [-0.125       0.25       -0.125     ]\n",
      " [ 0.64583333 -0.125      -0.02083333]]\n"
     ]
    }
   ],
   "execution_count": 4
  },
  {
   "cell_type": "markdown",
   "metadata": {},
   "source": [
    "Program - 4\n",
    "\n",
    "Given 1D array a=[1, 2, 3, 4, 5, 6, 7, 8, 9, 10, 11, 12, 13, 14, 15, 16]. Reshape it into a 3D array. Again reshape back to 1D array. Display all!"
   ]
  },
  {
   "cell_type": "code",
   "metadata": {
    "ExecuteTime": {
     "end_time": "2024-07-19T15:32:24.565809Z",
     "start_time": "2024-07-19T15:32:24.559400Z"
    }
   },
   "source": [
    "import numpy as np\n",
    "\n",
    "a = np.array([1, 2, 3, 4, 5, 6, 7, 8, 9, 10, 11, 12, 13, 14, 15, 16])\n",
    "a_3d = a.reshape(2, 4, 2)\n",
    "a_1d_again=a_3d.reshape(-1)\n",
    "print(a,\"\\n\")\n",
    "print(a_3d,\"\\n\")\n",
    "print(a_1d_again,\"\\n\")"
   ],
   "outputs": [
    {
     "name": "stdout",
     "output_type": "stream",
     "text": [
      "[ 1  2  3  4  5  6  7  8  9 10 11 12 13 14 15 16] \n",
      "\n",
      "[[[ 1  2]\n",
      "  [ 3  4]\n",
      "  [ 5  6]\n",
      "  [ 7  8]]\n",
      "\n",
      " [[ 9 10]\n",
      "  [11 12]\n",
      "  [13 14]\n",
      "  [15 16]]] \n",
      "\n",
      "[ 1  2  3  4  5  6  7  8  9 10 11 12 13 14 15 16] \n",
      "\n"
     ]
    }
   ],
   "execution_count": 5
  },
  {
   "metadata": {},
   "cell_type": "markdown",
   "source": [
    "Program - 5\n",
    "\n",
    "Suppose a sensor generates the following data Sequence as x = [2, 3, 5, 6, 7, 9]. If the Central/Observed Value is 7, calculate deviation of each data values."
   ]
  },
  {
   "metadata": {
    "ExecuteTime": {
     "end_time": "2024-07-19T15:32:24.585785Z",
     "start_time": "2024-07-19T15:32:24.575320Z"
    }
   },
   "cell_type": "code",
   "source": [
    "import numpy as np\n",
    "\n",
    "central_value = 7\n",
    "x = np.array([2, 3, 5, 6, 7, 9])\n",
    "deviation = x - central_value\n",
    "\n",
    "print(deviation)"
   ],
   "outputs": [
    {
     "name": "stdout",
     "output_type": "stream",
     "text": [
      "[-5 -4 -2 -1  0  2]\n"
     ]
    }
   ],
   "execution_count": 6
  },
  {
   "metadata": {},
   "cell_type": "markdown",
   "source": [
    "Program - 6\n",
    "\n",
    "Create a 2D array [[0,1,7,0,0],[3,0,0,2,19]]. Count number of non-zero elements."
   ]
  },
  {
   "metadata": {
    "ExecuteTime": {
     "end_time": "2024-07-19T15:32:24.637359Z",
     "start_time": "2024-07-19T15:32:24.622584Z"
    }
   },
   "cell_type": "code",
   "source": [
    "import numpy as np\n",
    "\n",
    "# Create a 2D array\n",
    "array_2d = np.array([[0, 1, 7, 0, 0], [3, 0, 0, 2, 19]])\n",
    "\n",
    "# Count number of non-zero elements\n",
    "non_zero_count = np.count_nonzero(array_2d)\n",
    "\n",
    "print(non_zero_count)"
   ],
   "outputs": [
    {
     "name": "stdout",
     "output_type": "stream",
     "text": [
      "5\n"
     ]
    }
   ],
   "execution_count": 7
  },
  {
   "metadata": {},
   "cell_type": "markdown",
   "source": [
    "Program - 7\n",
    "\n",
    "Create a list, num_list = [10, 20, 30, 40, 50]. Using np.random.choice, select the elements with probability values, 0.1, 0.3, 0, 0.4, 0.2.\n"
   ]
  },
  {
   "metadata": {
    "ExecuteTime": {
     "end_time": "2024-07-19T15:32:24.648933Z",
     "start_time": "2024-07-19T15:32:24.640283Z"
    }
   },
   "cell_type": "code",
   "source": [
    "import numpy as np\n",
    "\n",
    "# List of numbers\n",
    "num_list = [10, 20, 30, 40, 50]\n",
    "\n",
    "# Probability values for each element\n",
    "prob_values = [0.1, 0.3, 0, 0.4, 0.2]\n",
    "\n",
    "# Select elements using np.random.choice\n",
    "selected_elements = np.random.choice(num_list, size=len(num_list), p=prob_values)\n",
    "\n",
    "print(selected_elements)"
   ],
   "outputs": [
    {
     "name": "stdout",
     "output_type": "stream",
     "text": [
      "[10 20 20 20 40]\n"
     ]
    }
   ],
   "execution_count": 8
  },
  {
   "metadata": {},
   "cell_type": "markdown",
   "source": [
    "Program - 8\n",
    "\n",
    "Generate a 3x3 matrix with random values. Find its Transpose, Inverse Matrices."
   ]
  },
  {
   "metadata": {
    "ExecuteTime": {
     "end_time": "2024-07-19T15:32:24.671142Z",
     "start_time": "2024-07-19T15:32:24.654442Z"
    }
   },
   "cell_type": "code",
   "source": [
    "import numpy as np\n",
    "\n",
    "# Generate a 3x3 matrix with random values\n",
    "matrix = np.random.rand(3,3)\n",
    "\n",
    "# Find the transpose\n",
    "transpose_matrix = matrix.T\n",
    "\n",
    "# Find the inverse\n",
    "inverse_matrix = np.linalg.inv(matrix)\n",
    "\n",
    "print(\"Original Matrix:\\n\", matrix)\n",
    "print(\"Transpose Matrix:\\n\", transpose_matrix)\n",
    "print(\"Inverse Matrix:\\n\", inverse_matrix)"
   ],
   "outputs": [
    {
     "name": "stdout",
     "output_type": "stream",
     "text": [
      "Original Matrix:\n",
      " [[0.70227817 0.93568614 0.94376383]\n",
      " [0.95120834 0.88089329 0.76154581]\n",
      " [0.49354494 0.69836903 0.92426588]]\n",
      "Transpose Matrix:\n",
      " [[0.70227817 0.95120834 0.49354494]\n",
      " [0.93568614 0.88089329 0.69836903]\n",
      " [0.94376383 0.76154581 0.92426588]]\n",
      "Inverse Matrix:\n",
      " [[-5.03858213  3.67137336  2.11985819]\n",
      " [ 8.98202169 -3.2711726  -6.4762311 ]\n",
      " [-4.09622285  0.51121424  4.84336165]]\n"
     ]
    }
   ],
   "execution_count": 9
  },
  {
   "metadata": {},
   "cell_type": "markdown",
   "source": [
    "Program - 9\n",
    "\n",
    "Use Geometric Random distribution for generating 3000 samples with the probability of an individual success equal to 0.35. Plot the histogram with 30 bins. Observe changes in the plot for 10 / 40 / 100 bins."
   ]
  },
  {
   "metadata": {
    "ExecuteTime": {
     "end_time": "2024-07-19T15:32:25.040087Z",
     "start_time": "2024-07-19T15:32:24.717416Z"
    }
   },
   "cell_type": "code",
   "source": [
    "import numpy as np\n",
    "import matplotlib.pyplot as plt\n",
    "\n",
    "# Generate 3000 samples with a probability of success of 0.35\n",
    "samples = np.random.geometric(p=0.35, size=3000)\n",
    "\n",
    "# Plot histogram with 30 bins\n",
    "plt.hist(samples, bins=30, alpha=0.5, label='30 bins')\n",
    "\n",
    "# Plot histogram with 10 bins\n",
    "plt.hist(samples, bins=10, alpha=0.5, label='10 bins')\n",
    "\n",
    "# Plot histogram with 40 bins\n",
    "plt.hist(samples, bins=40, alpha=0.5, label='40 bins')\n",
    "\n",
    "# Plot histogram with 100 bins\n",
    "plt.hist(samples, bins=100, alpha=0.5, label='100 bins')\n",
    "\n",
    "plt.legend()\n",
    "plt.show()"
   ],
   "outputs": [
    {
     "data": {
      "text/plain": [
       "<Figure size 640x480 with 1 Axes>"
      ],
      "image/png": "[encoded data removed]"
     },
     "metadata": {},
     "output_type": "display_data"
    }
   ],
   "execution_count": 10
  },
  {
   "metadata": {},
   "cell_type": "markdown",
   "source": [
    "Program - 10\n",
    "\n",
    "Suppose a temperature sensor of an ICU patient generates x=[34.4, 32.5, 39.2, 36.0, 34.8, 32.9, 33.1], Assume that <=34.0 C as normal, count number of times, the patient suffer by high temperature. Plot this temperature readings as a graph with proper title, x-axis and y-axis labels."
   ]
  },
  {
   "metadata": {
    "ExecuteTime": {
     "end_time": "2024-07-19T15:32:25.182883Z",
     "start_time": "2024-07-19T15:32:25.040877Z"
    }
   },
   "cell_type": "code",
   "source": [
    "import numpy as np\n",
    "import matplotlib.pyplot as plt\n",
    "\n",
    "# Temperature readings\n",
    "x = np.array([34.4, 32.5, 39.2, 36.0, 34.8, 32.9, 33.1])\n",
    "\n",
    "# Count high temperatures\n",
    "high_temp_count = np.sum(x > 34.0)\n",
    "\n",
    "# Plotting\n",
    "plt.figure(figsize=(10, 6))\n",
    "plt.plot(x, marker='o', linestyle='-', color='b')\n",
    "plt.axhline(y=34.0, color='r', linestyle='--')\n",
    "\n",
    "# Highlight high temperatures\n",
    "for i, temp in enumerate(x):\n",
    "    if temp > 34.0:\n",
    "        plt.plot(i, temp, marker='o', color='r')\n",
    "\n",
    "plt.title('ICU Patient Temperature Readings')\n",
    "plt.xlabel('Measurement Time')\n",
    "plt.ylabel('Temperature (C)')\n",
    "plt.grid(True)\n",
    "plt.show()\n",
    "\n",
    "print(f\"Number of times the patient had a high temperature: {high_temp_count}\")"
   ],
   "outputs": [
    {
     "data": {
      "text/plain": [
       "<Figure size 1000x600 with 1 Axes>"
      ],
      "image/png": "[encoded data removed]"
     },
     "metadata": {},
     "output_type": "display_data"
    },
    {
     "name": "stdout",
     "output_type": "stream",
     "text": [
      "Number of times the patient had a high temperature: 4\n"
     ]
    }
   ],
   "execution_count": 11
  }
 ],
 "metadata": {
  "kernelspec": {
   "display_name": "venv",
   "language": "python",
   "name": "python3"
  },
  "language_info": {
   "codemirror_mode": {
    "name": "ipython",
    "version": 3
   },
   "file_extension": ".py",
   "mimetype": "text/x-python",
   "name": "python",
   "nbconvert_exporter": "python",
   "pygments_lexer": "ipython3",
   "version": "3.12.4"
  }
 },
 "nbformat": 4,
 "nbformat_minor": 2
}
