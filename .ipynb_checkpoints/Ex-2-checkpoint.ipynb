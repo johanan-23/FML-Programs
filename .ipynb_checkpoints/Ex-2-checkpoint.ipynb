{
 "cells": [
  {
   "metadata": {},
   "cell_type": "markdown",
   "source": "Exercise - 2",
   "id": "e4405549a363b599"
  },
  {
   "metadata": {},
   "cell_type": "markdown",
   "source": [
    "Task-1:\n",
    "Make a Pandas DataFrame with two-dimensional list"
   ],
   "id": "4b382a4de21be3a3"
  },
  {
   "metadata": {
    "ExecuteTime": {
     "end_time": "2024-07-21T17:45:42.853234Z",
     "start_time": "2024-07-21T17:45:41.643162Z"
    }
   },
   "cell_type": "code",
   "source": [
    "import pandas as pd\n",
    "\n",
    "data = [\n",
    "    [1, 'Alice', 30],\n",
    "    [2, 'Bob', 25],\n",
    "    [3, 'Charlie', 35]\n",
    "]\n",
    "df = pd.DataFrame(data, columns=['ID', 'Name', 'Age'])\n",
    "\n",
    "print(df)"
   ],
   "id": "cd0fefa46eb354ce",
   "outputs": [
    {
     "name": "stdout",
     "output_type": "stream",
     "text": [
      "   ID     Name  Age\n",
      "0   1    Alice   30\n",
      "1   2      Bob   25\n",
      "2   3  Charlie   35\n"
     ]
    }
   ],
   "execution_count": 1
  },
  {
   "metadata": {},
   "cell_type": "markdown",
   "source": [
    "Task-2: \n",
    "Write a python code to get the output as shown below\n",
    "            0      1      2\n",
    "Category   Array  Stack  Queue\n",
    "Student_1     20     21     19\n",
    "Student_2     15     20     14\n"
   ],
   "id": "903b1489ba3d9bcb"
  },
  {
   "metadata": {
    "ExecuteTime": {
     "end_time": "2024-07-21T17:49:06.606093Z",
     "start_time": "2024-07-21T17:49:06.590911Z"
    }
   },
   "cell_type": "code",
   "source": [
    "import pandas as pd\n",
    "\n",
    "data = {\n",
    "    'Category': ['Array', 'Stack', 'Queue'],\n",
    "    'Student_1': [20, 21, 19],\n",
    "    'Student_2': [15, 20, 14]\n",
    "}\n",
    "df = pd.DataFrame(data)\n",
    "df.set_index('Category', inplace=True)\n",
    "df_transposed = df.transpose()\n",
    "\n",
    "print(df_transposed)"
   ],
   "id": "26b2ada024a23e64",
   "outputs": [
    {
     "name": "stdout",
     "output_type": "stream",
     "text": [
      "Category   Array  Stack  Queue\n",
      "Student_1     20     21     19\n",
      "Student_2     15     20     14\n"
     ]
    }
   ],
   "execution_count": 3
  },
  {
   "metadata": {},
   "cell_type": "markdown",
   "source": "Task-3: Create a CSV file for student mark statement with atleast 5 subjects and 10 rows of details Add total mark also",
   "id": "2385f1f25d4bfef1"
  },
  {
   "metadata": {
    "ExecuteTime": {
     "end_time": "2024-07-21T18:03:17.714473Z",
     "start_time": "2024-07-21T18:03:17.686534Z"
    }
   },
   "cell_type": "code",
   "source": [
    "import pandas as pd\n",
    "\n",
    "data = [\n",
    "    {\"Name\": \"Student 1\", \"Math\": 85, \"Physics\": 90, \"Chemistry\": 95, \"Biology\": 80, \"English\": 75},\n",
    "    {\"Name\": \"Student 2\", \"Math\": 78, \"Physics\": 82, \"Chemistry\": 88, \"Biology\": 90, \"English\": 85},\n",
    "    {\"Name\": \"Student 3\", \"Math\": 92, \"Physics\": 88, \"Chemistry\": 91, \"Biology\": 86, \"English\": 89},\n",
    "    {\"Name\": \"Student 4\", \"Math\": 75, \"Physics\": 80, \"Chemistry\": 79, \"Biology\": 92, \"English\": 88},\n",
    "    {\"Name\": \"Student 5\", \"Math\": 88, \"Physics\": 90, \"Chemistry\": 92, \"Biology\": 85, \"English\": 87},\n",
    "    {\"Name\": \"Student 6\", \"Math\": 82, \"Physics\": 84, \"Chemistry\": 86, \"Biology\": 88, \"English\": 90},\n",
    "    {\"Name\": \"Student 7\", \"Math\": 90, \"Physics\": 92, \"Chemistry\": 94, \"Biology\": 89, \"English\": 91},\n",
    "    {\"Name\": \"Student 8\", \"Math\": 85, \"Physics\": 87, \"Chemistry\": 85, \"Biology\": 80, \"English\": 82},\n",
    "    {\"Name\": \"Student 9\", \"Math\": 80, \"Physics\": 82, \"Chemistry\": 84, \"Biology\": 86, \"English\": 88},\n",
    "    {\"Name\": \"Student 10\", \"Math\": 92, \"Physics\": 94, \"Chemistry\": 96, \"Biology\": 98, \"English\": 90}\n",
    "]\n",
    "\n",
    "df = pd.DataFrame(data)\n",
    "df['Total'] = df[['Math', 'Physics', 'Chemistry', 'Biology', 'English']].sum(axis=1)\n",
    "df.to_csv('student_marks.csv', index=False)\n",
    "print(\"CSV file created successfully.\")"
   ],
   "id": "e7a8f3fa1f1b3028",
   "outputs": [
    {
     "name": "stdout",
     "output_type": "stream",
     "text": [
      "CSV file created successfully.\n"
     ]
    }
   ],
   "execution_count": 13
  },
  {
   "metadata": {},
   "cell_type": "markdown",
   "source": "Task-4: Using pandas read the CSV files and manipulate the followings:",
   "id": "b40c391438e93e79"
  },
  {
   "metadata": {},
   "cell_type": "markdown",
   "source": "a) Verify the file extension and read the file",
   "id": "c037b1b9c3b104e2"
  },
  {
   "metadata": {
    "ExecuteTime": {
     "end_time": "2024-07-21T18:15:27.575869Z",
     "start_time": "2024-07-21T18:15:27.559197Z"
    }
   },
   "cell_type": "code",
   "source": [
    "import pandas as pd\n",
    "\n",
    "file_path = 'student_marks.csv'\n",
    "if file_path.endswith('.csv'):\n",
    "    df = pd.read_csv(file_path)\n",
    "    print(\"File read successfully.\")\n",
    "else:\n",
    "    print(\"File is not a CSV.\")"
   ],
   "id": "7aa1632675b9392c",
   "outputs": [
    {
     "name": "stdout",
     "output_type": "stream",
     "text": [
      "File read successfully.\n"
     ]
    }
   ],
   "execution_count": 26
  },
  {
   "metadata": {},
   "cell_type": "markdown",
   "source": "b) Print top 4 header rows",
   "id": "868c12c1928254b7"
  },
  {
   "metadata": {
    "ExecuteTime": {
     "end_time": "2024-07-21T17:57:04.108940Z",
     "start_time": "2024-07-21T17:57:04.086769Z"
    }
   },
   "cell_type": "code",
   "source": "print(df.head(4))",
   "id": "db965aef4cac49e9",
   "outputs": [
    {
     "name": "stdout",
     "output_type": "stream",
     "text": [
      "        Name  Math  Physics  Chemistry  Biology  English  Total\n",
      "0  Student 1    85       90         95       80       75    425\n",
      "1  Student 2    78       82         88       90       85    423\n",
      "2  Student 3    92       88         91       86       89    446\n",
      "3  Student 4    75       80         79       92       88    414\n"
     ]
    }
   ],
   "execution_count": 9
  },
  {
   "metadata": {},
   "cell_type": "markdown",
   "source": "c) Display the Student Names whose Total Mark is >= 80",
   "id": "42f0df6876a9c2b3"
  },
  {
   "metadata": {
    "ExecuteTime": {
     "end_time": "2024-07-21T17:57:08.540974Z",
     "start_time": "2024-07-21T17:57:08.529618Z"
    }
   },
   "cell_type": "code",
   "source": [
    "students_above_80 = df[df['Total'] >= 80]['Name']\n",
    "print(students_above_80)"
   ],
   "id": "a23391582a5793be",
   "outputs": [
    {
     "name": "stdout",
     "output_type": "stream",
     "text": [
      "0     Student 1\n",
      "1     Student 2\n",
      "2     Student 3\n",
      "3     Student 4\n",
      "4     Student 5\n",
      "5     Student 6\n",
      "6     Student 7\n",
      "7     Student 8\n",
      "8     Student 9\n",
      "9    Student 10\n",
      "Name: Name, dtype: object\n"
     ]
    }
   ],
   "execution_count": 10
  },
  {
   "metadata": {},
   "cell_type": "markdown",
   "source": "d) Find average, median marks of each subject",
   "id": "c84afb170629ec95"
  },
  {
   "metadata": {
    "ExecuteTime": {
     "end_time": "2024-07-21T17:58:01.280522Z",
     "start_time": "2024-07-21T17:58:01.255005Z"
    }
   },
   "cell_type": "code",
   "source": [
    "average_marks = df.loc[:, 'Math':'English'].mean()\n",
    "median_marks = df.loc[:, 'Math':'English'].median()\n",
    "print(\"Average Marks:\\n\", average_marks)\n",
    "print(\"Median Marks:\\n\", median_marks)"
   ],
   "id": "7f53c625a5ec5db6",
   "outputs": [
    {
     "name": "stdout",
     "output_type": "stream",
     "text": [
      "Average Marks:\n",
      " Math         84.7\n",
      "Physics      86.9\n",
      "Chemistry    89.0\n",
      "Biology      87.4\n",
      "English      86.5\n",
      "dtype: float64\n",
      "Median Marks:\n",
      " Math         85.0\n",
      "Physics      87.5\n",
      "Chemistry    89.5\n",
      "Biology      87.0\n",
      "English      88.0\n",
      "dtype: float64\n"
     ]
    }
   ],
   "execution_count": 11
  },
  {
   "metadata": {},
   "cell_type": "markdown",
   "source": "e) Find the worst and best student",
   "id": "b4e033ff066d6f0d"
  },
  {
   "metadata": {
    "ExecuteTime": {
     "end_time": "2024-07-21T17:58:08.753199Z",
     "start_time": "2024-07-21T17:58:08.739943Z"
    }
   },
   "cell_type": "code",
   "source": [
    "best_student = df.loc[df['Total'].idxmax(), 'Name']\n",
    "worst_student = df.loc[df['Total'].idxmin(), 'Name']\n",
    "print(f\"Best Student: {best_student}\")\n",
    "print(f\"Worst Student: {worst_student}\")"
   ],
   "id": "2041d1547b9ad73c",
   "outputs": [
    {
     "name": "stdout",
     "output_type": "stream",
     "text": [
      "Best Student: Student 10\n",
      "Worst Student: Student 4\n"
     ]
    }
   ],
   "execution_count": 12
  },
  {
   "metadata": {},
   "cell_type": "markdown",
   "source": "Task-5: Duplicate the original CSV file by removing Odd rows into another CSV file.",
   "id": "470e56b3d7cfe4ce"
  },
  {
   "metadata": {
    "ExecuteTime": {
     "end_time": "2024-07-21T18:05:55.840077Z",
     "start_time": "2024-07-21T18:05:55.817070Z"
    }
   },
   "cell_type": "code",
   "source": [
    "import pandas as pd\n",
    "\n",
    "df = pd.read_csv('student_marks.csv')\n",
    "filtered_df = df.iloc[::2]\n",
    "\n",
    "filtered_df.to_csv('filtered_student_marks.csv', index=False)"
   ],
   "id": "35ce53984da6344e",
   "outputs": [],
   "execution_count": 14
  },
  {
   "metadata": {},
   "cell_type": "markdown",
   "source": "Task-6: Plot the marks using matplotlib",
   "id": "597876383a19fd06"
  },
  {
   "metadata": {
    "ExecuteTime": {
     "end_time": "2024-07-21T18:14:04.041079Z",
     "start_time": "2024-07-21T18:14:03.754709Z"
    }
   },
   "cell_type": "code",
   "source": [
    "import pandas as pd\n",
    "import matplotlib.pyplot as plt\n",
    "\n",
    "df = pd.read_csv('student_marks_with_average.csv')\n",
    "subjects = ['Math', 'Physics', 'Chemistry', 'Biology', 'English']\n",
    "subject_averages = df[subjects].mean()\n",
    "names = df['Name']\n",
    "person_averages = df['Average']\n",
    "\n",
    "plt.figure(figsize=(14, 6))\n",
    "\n",
    "plt.subplot(1, 2, 1)\n",
    "plt.bar(subjects, subject_averages, color='skyblue')\n",
    "plt.title('Average Marks in Each Subject')\n",
    "plt.xlabel('Subjects')\n",
    "plt.ylabel('Average Marks')\n",
    "plt.ylim(0, 100)\n",
    "\n",
    "plt.subplot(1, 2, 2)\n",
    "plt.bar(names, person_averages, color='lightgreen')\n",
    "plt.title('Average Marks per Student')\n",
    "plt.xlabel('Student')\n",
    "plt.ylabel('Average Marks')\n",
    "plt.xticks(rotation=45)\n",
    "plt.ylim(0, 100)\n",
    "\n",
    "plt.tight_layout()\n",
    "plt.show()"
   ],
   "id": "e5db7642595bf3f5",
   "outputs": [
    {
     "data": {
      "text/plain": [
       "<Figure size 1400x600 with 2 Axes>"
      ],
      "image/png": "[encoded data removed]"
     },
     "metadata": {},
     "output_type": "display_data"
    }
   ],
   "execution_count": 25
  }
 ],
 "metadata": {
  "kernelspec": {
   "display_name": "Python 3",
   "language": "python",
   "name": "python3"
  },
  "language_info": {
   "codemirror_mode": {
    "name": "ipython",
    "version": 2
   },
   "file_extension": ".py",
   "mimetype": "text/x-python",
   "name": "python",
   "nbconvert_exporter": "python",
   "pygments_lexer": "ipython2",
   "version": "2.7.6"
  }
 },
 "nbformat": 4,
 "nbformat_minor": 5
}
